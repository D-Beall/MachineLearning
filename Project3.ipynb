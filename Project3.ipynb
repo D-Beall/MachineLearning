{
  "nbformat": 4,
  "nbformat_minor": 0,
  "metadata": {
    "colab": {
      "name": "Project3.ipynb",
      "provenance": [],
      "collapsed_sections": [
        "I8VtDPaqU1S_"
      ],
      "mount_file_id": "1eZAhxhhI8joizQ4GM1_b67pJ09yWdZfe",
      "authorship_tag": "ABX9TyOL6p74DJV01wNA+5mL389n",
      "include_colab_link": true
    },
    "kernelspec": {
      "name": "python3",
      "display_name": "Python 3"
    }
  },
  "cells": [
    {
      "cell_type": "markdown",
      "metadata": {
        "id": "view-in-github",
        "colab_type": "text"
      },
      "source": [
        "<a href=\"https://colab.research.google.com/github/D-Beall/MachineLearning/blob/master/Project3.ipynb\" target=\"_parent\"><img src=\"https://colab.research.google.com/assets/colab-badge.svg\" alt=\"Open In Colab\"/></a>"
      ]
    },
    {
      "cell_type": "markdown",
      "metadata": {
        "id": "I8VtDPaqU1S_"
      },
      "source": [
        "# K-Means Clustering + PCA"
      ]
    },
    {
      "cell_type": "markdown",
      "metadata": {
        "id": "ahrul3uLWie0"
      },
      "source": [
        "## Setup and data visualization."
      ]
    },
    {
      "cell_type": "code",
      "metadata": {
        "id": "XIum4iYvU7N1"
      },
      "source": [
        "from sklearn.model_selection import train_test_split #Train and test split library\n",
        "from sklearn.cluster import KMeans \n",
        "import matplotlib\n",
        "import matplotlib.pyplot as plt #Plotting Library\n",
        "import numpy as np #Data manipulation/linear algebra\n",
        "import pandas as pd #To read in data."
      ],
      "execution_count": null,
      "outputs": []
    },
    {
      "cell_type": "code",
      "metadata": {
        "id": "4BNAsuTwVXOL"
      },
      "source": [
        "human = pd.read_csv('./drive/My Drive/Machine Learning/Project 3/human_train.csv')\n",
        "human_test = pd.read_csv('./drive/My Drive/Machine Learning/Project 3/human_test.csv')"
      ],
      "execution_count": null,
      "outputs": []
    },
    {
      "cell_type": "code",
      "metadata": {
        "id": "rmAlkJ-nKDrG"
      },
      "source": [
        "human_test = human_test.drop(['rn'],axis=1) #Remove non useful features(rn and activity)"
      ],
      "execution_count": null,
      "outputs": []
    },
    {
      "cell_type": "code",
      "metadata": {
        "id": "kUg_mBugaT2b"
      },
      "source": [
        "labels = human[\"activity\"] #get labels of training data.\n",
        "pos_labels = labels.unique().tolist()\n",
        "human = human.drop(['rn','activity'],axis=1) #Remove non useful features(rn and activity)\n",
        "features = list(human.columns) #grab all remaining feature names."
      ],
      "execution_count": null,
      "outputs": []
    },
    {
      "cell_type": "code",
      "metadata": {
        "colab": {
          "base_uri": "https://localhost:8080/"
        },
        "id": "5D2wIKFLIK8x",
        "outputId": "e803a6f4-dd91-4f31-f053-af9e6319a975"
      },
      "source": [
        "print(pos_labels)"
      ],
      "execution_count": null,
      "outputs": [
        {
          "output_type": "stream",
          "text": [
            "['STANDING', 'SITTING', 'LAYING', 'WALKING', 'WALKING_DOWNSTAIRS', 'WALKING_UPSTAIRS']\n"
          ],
          "name": "stdout"
        }
      ]
    },
    {
      "cell_type": "code",
      "metadata": {
        "colab": {
          "base_uri": "https://localhost:8080/"
        },
        "id": "lvYOBc29FpU3",
        "outputId": "90f07ddd-ba98-4a52-af48-68bf8422323f"
      },
      "source": [
        "print(len(features))"
      ],
      "execution_count": null,
      "outputs": [
        {
          "output_type": "stream",
          "text": [
            "561\n"
          ],
          "name": "stdout"
        }
      ]
    },
    {
      "cell_type": "markdown",
      "metadata": {
        "id": "3GOAr81YFsKm"
      },
      "source": [
        "As seen above this data set contains a large amount of features, visualizing all would be time consuming and probably not very informative.\n",
        "\n",
        "Thus, PCA is very helpful for this situation. Next PCA will be used to determine the relevant features/create more useful ones.\n",
        "\n",
        "Below we will check the intertia for each number of clusters regarding this dataset. This code is taken from the document linked to this section of the project."
      ]
    },
    {
      "cell_type": "code",
      "metadata": {
        "id": "nyuzUurcYOwS"
      },
      "source": [
        "x = np.array(human)"
      ],
      "execution_count": null,
      "outputs": []
    },
    {
      "cell_type": "code",
      "metadata": {
        "id": "WOmT3zQ9Xj4A"
      },
      "source": [
        "ks = range(1, 10)\n",
        "inertias = []\n",
        "\n",
        "for k in ks:\n",
        "    model = KMeans(n_clusters=k).fit(x)\n",
        "    inertias.append(model.inertia_)"
      ],
      "execution_count": null,
      "outputs": []
    },
    {
      "cell_type": "code",
      "metadata": {
        "colab": {
          "base_uri": "https://localhost:8080/",
          "height": 333
        },
        "id": "ZQDuJfUGYko3",
        "outputId": "554b4f67-1276-46a4-9f64-71c95376facd"
      },
      "source": [
        "plt.figure(figsize=(8,5))\n",
        "plt.style.use('bmh')\n",
        "plt.plot(ks, inertias, '-o')\n",
        "plt.xlabel('Number of clusters, k')\n",
        "plt.ylabel('Inertia')\n",
        "plt.xticks(ks)\n",
        "plt.show()"
      ],
      "execution_count": null,
      "outputs": [
        {
          "output_type": "display_data",
          "data": {
            "image/png": "[encoded data removed]",
            "text/plain": [
              "<Figure size 576x360 with 1 Axes>"
            ]
          },
          "metadata": {
            "tags": [],
            "needs_background": "light"
          }
        }
      ]
    },
    {
      "cell_type": "markdown",
      "metadata": {
        "id": "XO6J6IsNYndy"
      },
      "source": [
        "It appears the minimum optimal number of clusters is 2. This is due to the diminishing returns from the increased number of clusters after 2. \n",
        "\n",
        "For this part of the project, the notion of 6 cluster kmeans model will be explored. The reason for this is to see if the kmeans model is capable of clustering the 6 activities provided by the dataset. "
      ]
    },
    {
      "cell_type": "markdown",
      "metadata": {
        "id": "7hLQx7-4WcVX"
      },
      "source": [
        "## Algorithm Creation Without PCA"
      ]
    },
    {
      "cell_type": "markdown",
      "metadata": {
        "id": "60J2KBkNcRku"
      },
      "source": [
        "In this section the data will be executed on a kmeans model with 6 clusters. PCA will not be utilized in this section and the results of the training will be discussed. "
      ]
    },
    {
      "cell_type": "markdown",
      "metadata": {
        "id": "SAaPZ_ZnJq4r"
      },
      "source": [
        "### Helper Functions for visualizing and organizing results of kmeans model."
      ]
    },
    {
      "cell_type": "code",
      "metadata": {
        "id": "K9260ILbMAQL"
      },
      "source": [
        "def trained_comparision(trained,actual):\n",
        "  '''\n",
        "  trained- cluster indexs from trained kmeans model.\n",
        "  actual- actual labels from training data.\n",
        "\n",
        "  output- print pandas dataframe on which labels made which cluster.\n",
        "  '''\n",
        "  indexes = {'STANDING':0, 'SITTING':1, 'LAYING':2, 'WALKING':3, 'WALKING_DOWNSTAIRS':4, 'WALKING_UPSTAIRS':5}\n",
        "  res = np.zeros((6,6))\n",
        "  for i in range(len(trained)):\n",
        "    act_label = actual[i]\n",
        "    train_label = trained[i]\n",
        "    res[train_label][indexes[act_label]]+=1\n",
        "  res = pd.DataFrame(data=res)\n",
        "  res.columns = ['STANDING', 'SITTING', 'LAYING', 'WALKING', 'WALKING_DOWNSTAIRS', 'WALKING_UPSTAIRS']\n",
        "  print(res)\n"
      ],
      "execution_count": null,
      "outputs": []
    },
    {
      "cell_type": "markdown",
      "metadata": {
        "id": "YsDNJWCzTtd7"
      },
      "source": [
        "###Kmeans clustering"
      ]
    },
    {
      "cell_type": "code",
      "metadata": {
        "id": "mwyU6UzIIksI"
      },
      "source": [
        "x = np.array(human)\n",
        "y = np.array(labels)"
      ],
      "execution_count": null,
      "outputs": []
    },
    {
      "cell_type": "code",
      "metadata": {
        "colab": {
          "base_uri": "https://localhost:8080/"
        },
        "id": "KEIkJ0FuItwb",
        "outputId": "b1a92043-2327-4eb3-cb66-96f9347bc769"
      },
      "source": [
        "print(x.shape)\n",
        "print(y.shape)"
      ],
      "execution_count": null,
      "outputs": [
        {
          "output_type": "stream",
          "text": [
            "(3609, 561)\n",
            "(3609,)\n"
          ],
          "name": "stdout"
        }
      ]
    },
    {
      "cell_type": "code",
      "metadata": {
        "id": "BAnDpOGdH7Wk"
      },
      "source": [
        "kmeans = KMeans(n_clusters=6,random_state=66).fit(x)#setup and fit model to training data.\n",
        "trained_labels = kmeans.labels_ #get labels of each point from kmeans model\n",
        "trained_centers = kmeans.cluster_centers_"
      ],
      "execution_count": null,
      "outputs": []
    },
    {
      "cell_type": "code",
      "metadata": {
        "colab": {
          "base_uri": "https://localhost:8080/"
        },
        "id": "QCiLexlULfin",
        "outputId": "bda2ee39-531d-44e0-ff15-db39f069ffbf"
      },
      "source": [
        "print(trained_labels[0:3])\n",
        "print(trained_centers[0:3])"
      ],
      "execution_count": null,
      "outputs": [
        {
          "output_type": "stream",
          "text": [
            "[3 3 3]\n",
            "[[ 0.26734863 -0.02171357 -0.11624781 ... -0.70449625  0.23570021\n",
            "   0.08331586]\n",
            " [ 0.26377968 -0.00627382 -0.09536101 ... -0.50957862  0.03352182\n",
            "  -0.09808823]\n",
            " [ 0.27508871 -0.01733588 -0.10870919 ...  0.50319    -0.46127452\n",
            "  -0.40623685]]\n"
          ],
          "name": "stdout"
        }
      ]
    },
    {
      "cell_type": "code",
      "metadata": {
        "id": "Eo_DoEHbJj0X"
      },
      "source": [
        "x_test = np.array(human_test)"
      ],
      "execution_count": null,
      "outputs": []
    },
    {
      "cell_type": "code",
      "metadata": {
        "colab": {
          "base_uri": "https://localhost:8080/"
        },
        "id": "GovIKSu1K0n1",
        "outputId": "0f6c4a72-60cb-4173-fcec-2d4142546e4e"
      },
      "source": [
        "print(x_test.shape)"
      ],
      "execution_count": null,
      "outputs": [
        {
          "output_type": "stream",
          "text": [
            "(1541, 561)\n"
          ],
          "name": "stdout"
        }
      ]
    },
    {
      "cell_type": "code",
      "metadata": {
        "id": "xAL8FCYQK47D"
      },
      "source": [
        "predicted_labels = kmeans.predict(x_test) #Labels predicted by kmeans model."
      ],
      "execution_count": null,
      "outputs": []
    },
    {
      "cell_type": "code",
      "metadata": {
        "colab": {
          "base_uri": "https://localhost:8080/"
        },
        "id": "xA45xz1rLLaz",
        "outputId": "19d2ded1-d982-49b2-dec5-cfe628794687"
      },
      "source": [
        "trained_comparision(trained_labels, y)"
      ],
      "execution_count": null,
      "outputs": [
        {
          "output_type": "stream",
          "text": [
            "   STANDING  SITTING  LAYING  WALKING  WALKING_DOWNSTAIRS  WALKING_UPSTAIRS\n",
            "0       0.0      0.0     1.0    315.0                66.0             418.0\n",
            "1     185.0    149.0    73.0      0.0                 0.0               0.0\n",
            "2       0.0     13.0   607.0      0.0                 0.0               0.0\n",
            "3     483.0    461.0     0.0      0.0                 0.0               0.0\n",
            "4       0.0      0.0     0.0    256.0               319.0             117.0\n",
            "5       0.0      0.0     0.0     32.0               108.0               6.0\n"
          ],
          "name": "stdout"
        }
      ]
    },
    {
      "cell_type": "markdown",
      "metadata": {
        "id": "1yrf1eK6PO9K"
      },
      "source": [
        "Above is the data for which cluster the model placed each activity type. Overall this is pretty poor for the 6 activity types. This is evident because each activity is placed in at least 2 groups.\n",
        "\n",
        "A bright spot in this result is that the model seems to be placing the non-walking activities in somewhat similar groups. The exception here being Laying. Similarly the Walking activities were all placed in the same 3 groups."
      ]
    },
    {
      "cell_type": "markdown",
      "metadata": {
        "id": "2xEI5kCbWBgr"
      },
      "source": [
        "## Feature selection/PCA"
      ]
    },
    {
      "cell_type": "markdown",
      "metadata": {
        "id": "PkgyCBxWR8C8"
      },
      "source": [
        "This section PCA will be done along with the visualization of the "
      ]
    },
    {
      "cell_type": "code",
      "metadata": {
        "id": "Z6RYm4KpGQDy"
      },
      "source": [
        " from sklearn.decomposition import PCA"
      ],
      "execution_count": null,
      "outputs": []
    },
    {
      "cell_type": "code",
      "metadata": {
        "colab": {
          "base_uri": "https://localhost:8080/"
        },
        "id": "YPIxN_96SfJr",
        "outputId": "741bfcb4-cf59-4354-bf31-3a3477eb44b1"
      },
      "source": [
        "pca = PCA(random_state=66)\n",
        "pca.fit(x) #fit pca on training features"
      ],
      "execution_count": null,
      "outputs": [
        {
          "output_type": "execute_result",
          "data": {
            "text/plain": [
              "PCA(copy=True, iterated_power='auto', n_components=None, random_state=66,\n",
              "    svd_solver='auto', tol=0.0, whiten=False)"
            ]
          },
          "metadata": {
            "tags": []
          },
          "execution_count": 102
        }
      ]
    },
    {
      "cell_type": "code",
      "metadata": {
        "id": "ibeXBWhkT4pS"
      },
      "source": [
        "pca_features = range(pca.n_components_)"
      ],
      "execution_count": null,
      "outputs": []
    },
    {
      "cell_type": "markdown",
      "metadata": {
        "id": "fcsfXkrZUPum"
      },
      "source": [
        "Below we will visualize the most impactful pca features. The following graph code is taken from the assigned document for this section project."
      ]
    },
    {
      "cell_type": "code",
      "metadata": {
        "colab": {
          "base_uri": "https://localhost:8080/",
          "height": 280
        },
        "id": "x9eOLpykUXSH",
        "outputId": "90ac3754-d2db-499d-ba0e-c245dbede14a"
      },
      "source": [
        "plt.figure(figsize=(8,4))\n",
        "plt.bar(pca_features[:15], pca.explained_variance_[:15], color='lightskyblue')\n",
        "plt.xlabel('PCA feature')\n",
        "plt.ylabel('Variance')\n",
        "plt.xticks(pca_features[:15])\n",
        "plt.show()"
      ],
      "execution_count": null,
      "outputs": [
        {
          "output_type": "display_data",
          "data": {
            "image/png": "[encoded data removed]",
            "text/plain": [
              "<Figure size 576x288 with 1 Axes>"
            ]
          },
          "metadata": {
            "tags": [],
            "needs_background": "light"
          }
        }
      ]
    },
    {
      "cell_type": "markdown",
      "metadata": {
        "id": "Dy5ueXXuU_vA"
      },
      "source": [
        "This graphs showcases that one pca feature will be sufficient for the clustering needs of this model."
      ]
    },
    {
      "cell_type": "code",
      "metadata": {
        "id": "xvCa3jyMUEUL"
      },
      "source": [
        "pca=PCA(n_components=1,random_state=66)\n",
        "pca_x = pca.fit_transform(x) #fit x to pca and create new x with new shape of observations x 1"
      ],
      "execution_count": null,
      "outputs": []
    },
    {
      "cell_type": "code",
      "metadata": {
        "colab": {
          "base_uri": "https://localhost:8080/"
        },
        "id": "jPmIEbRjVaRH",
        "outputId": "75c53c1a-67b9-4036-daac-a6f917033817"
      },
      "source": [
        "print(pca_x.shape)"
      ],
      "execution_count": null,
      "outputs": [
        {
          "output_type": "stream",
          "text": [
            "(3609, 1)\n"
          ],
          "name": "stdout"
        }
      ]
    },
    {
      "cell_type": "markdown",
      "metadata": {
        "id": "IbeRGpv8VcP_"
      },
      "source": [
        "With the new feature data, pca_x, it is time to run the kmeans clustering again with new feature data created from pca."
      ]
    },
    {
      "cell_type": "markdown",
      "metadata": {
        "id": "jvTXevr5R391"
      },
      "source": [
        "## Algorithm with PCA"
      ]
    },
    {
      "cell_type": "code",
      "metadata": {
        "id": "8tZNEdTVR6Ox"
      },
      "source": [
        "kmeans2 = KMeans(n_clusters=6,random_state=66).fit(pca_x)#setup and fit model to training data.\n",
        "trained_labels2 = kmeans2.labels_ #get labels of each point from kmeans model\n",
        "trained_centers2 = kmeans.cluster_centers_"
      ],
      "execution_count": null,
      "outputs": []
    },
    {
      "cell_type": "code",
      "metadata": {
        "colab": {
          "base_uri": "https://localhost:8080/"
        },
        "id": "VpocEgQSV1eP",
        "outputId": "38f2f23a-5914-4abd-a0d9-5263326c9239"
      },
      "source": [
        "trained_comparision(trained_labels2, y)"
      ],
      "execution_count": null,
      "outputs": [
        {
          "output_type": "stream",
          "text": [
            "   STANDING  SITTING  LAYING  WALKING  WALKING_DOWNSTAIRS  WALKING_UPSTAIRS\n",
            "0     489.0    487.0   581.0      0.0                 0.0               0.0\n",
            "1       0.0      0.0     0.0    251.0               123.0             224.0\n",
            "2       1.0      1.0     1.0    187.0                29.0             237.0\n",
            "3       0.0      0.0     0.0    146.0               241.0              76.0\n",
            "4     178.0    135.0    99.0      0.0                 0.0               0.0\n",
            "5       0.0      0.0     0.0     19.0               100.0               4.0\n"
          ],
          "name": "stdout"
        }
      ]
    },
    {
      "cell_type": "markdown",
      "metadata": {
        "id": "fM3Q_JgcWS43"
      },
      "source": [
        "These results are intersting. The non-walking groups seemed to be more confident than the orginial model. However, the walking group is much different with more clusters being present in each activity. \n",
        "\n",
        "Overall, it appears that the data may not be suited for clustering into 6 groups. This is almost certainly due to the data between certain activities being too similar. Specifically, the walking and non-walking groups."
      ]
    },
    {
      "cell_type": "code",
      "metadata": {
        "colab": {
          "base_uri": "https://localhost:8080/"
        },
        "id": "_MIc-9HUV7tB",
        "outputId": "e8df5480-caa5-4035-93b6-57103770b72e"
      },
      "source": [
        "trained_comparision(trained_labels, y)"
      ],
      "execution_count": null,
      "outputs": [
        {
          "output_type": "stream",
          "text": [
            "   STANDING  SITTING  LAYING  WALKING  WALKING_DOWNSTAIRS  WALKING_UPSTAIRS\n",
            "0       0.0      0.0     1.0    315.0                66.0             418.0\n",
            "1     185.0    149.0    73.0      0.0                 0.0               0.0\n",
            "2       0.0     13.0   607.0      0.0                 0.0               0.0\n",
            "3     483.0    461.0     0.0      0.0                 0.0               0.0\n",
            "4       0.0      0.0     0.0    256.0               319.0             117.0\n",
            "5       0.0      0.0     0.0     32.0               108.0               6.0\n"
          ],
          "name": "stdout"
        }
      ]
    },
    {
      "cell_type": "markdown",
      "metadata": {
        "id": "HY8gy4pFhv91"
      },
      "source": [
        "#Random Forest, PCA, KNN comparision"
      ]
    },
    {
      "cell_type": "markdown",
      "metadata": {
        "id": "UqxImEvUh4JK"
      },
      "source": [
        "##Setup and data visualization"
      ]
    },
    {
      "cell_type": "code",
      "metadata": {
        "id": "H5RKrI6rh1oo"
      },
      "source": [
        "from sklearn.ensemble import RandomForestClassifier\n",
        "from sklearn.model_selection import train_test_split\n",
        "from sklearn.neighbors import KNeighborsClassifier\n",
        "from sklearn.decomposition import PCA\n",
        "import matplotlib\n",
        "import matplotlib.pyplot as plt #Plotting Library\n",
        "import numpy as np #Data manipulation/linear algebra\n",
        "import pandas as pd #To read in data.\n",
        "import seaborn as sb\n",
        "from PIL import Image #To visualize digit images.\n",
        "from random import randint\n",
        "from sklearn.metrics import classification_report\n",
        "from sklearn.metrics import multilabel_confusion_matrix\n",
        "from sklearn.metrics import plot_confusion_matrix\n",
        "from sklearn.metrics import accuracy_score"
      ],
      "execution_count": null,
      "outputs": []
    },
    {
      "cell_type": "markdown",
      "metadata": {
        "id": "ggTwpCZhiL7S"
      },
      "source": [
        "First to visualize the data, images of the digits will be displayed. Visualization code is heavily inspired by code of document linked to this part of the project."
      ]
    },
    {
      "cell_type": "code",
      "metadata": {
        "id": "1rW-CfptiLSZ"
      },
      "source": [
        "digits = pd.read_csv('./drive/My Drive/Machine Learning/Project 3/digit_train.csv')\n"
      ],
      "execution_count": null,
      "outputs": []
    },
    {
      "cell_type": "code",
      "metadata": {
        "id": "wJpQiRIt6iVX"
      },
      "source": [
        "train = pd.read_csv('./drive/My Drive/Machine Learning/Project 3/digit_train.csv')\n",
        "target = train[\"label\"]\n",
        "train = train.drop(\"label\",1)"
      ],
      "execution_count": null,
      "outputs": []
    },
    {
      "cell_type": "code",
      "metadata": {
        "colab": {
          "base_uri": "https://localhost:8080/",
          "height": 256
        },
        "id": "vrvYM313jazi",
        "outputId": "f5b294fe-1b7a-4c8e-df3c-79fadff79937"
      },
      "source": [
        "digits.sample(5)"
      ],
      "execution_count": null,
      "outputs": [
        {
          "output_type": "execute_result",
          "data": {
            "text/html": [
              "<div>\n",
              "<style scoped>\n",
              "    .dataframe tbody tr th:only-of-type {\n",
              "        vertical-align: middle;\n",
              "    }\n",
              "\n",
              "    .dataframe tbody tr th {\n",
              "        vertical-align: top;\n",
              "    }\n",
              "\n",
              "    .dataframe thead th {\n",
              "        text-align: right;\n",
              "    }\n",
              "</style>\n",
              "<table border=\"1\" class=\"dataframe\">\n",
              "  <thead>\n",
              "    <tr style=\"text-align: right;\">\n",
              "      <th></th>\n",
              "      <th>label</th>\n",
              "      <th>pixel0</th>\n",
              "      <th>pixel1</th>\n",
              "      <th>pixel2</th>\n",
              "      <th>pixel3</th>\n",
              "      <th>pixel4</th>\n",
              "      <th>pixel5</th>\n",
              "      <th>pixel6</th>\n",
              "      <th>pixel7</th>\n",
              "      <th>pixel8</th>\n",
              "      <th>pixel9</th>\n",
              "      <th>pixel10</th>\n",
              "      <th>pixel11</th>\n",
              "      <th>pixel12</th>\n",
              "      <th>pixel13</th>\n",
              "      <th>pixel14</th>\n",
              "      <th>pixel15</th>\n",
              "      <th>pixel16</th>\n",
              "      <th>pixel17</th>\n",
              "      <th>pixel18</th>\n",
              "      <th>pixel19</th>\n",
              "      <th>pixel20</th>\n",
              "      <th>pixel21</th>\n",
              "      <th>pixel22</th>\n",
              "      <th>pixel23</th>\n",
              "      <th>pixel24</th>\n",
              "      <th>pixel25</th>\n",
              "      <th>pixel26</th>\n",
              "      <th>pixel27</th>\n",
              "      <th>pixel28</th>\n",
              "      <th>pixel29</th>\n",
              "      <th>pixel30</th>\n",
              "      <th>pixel31</th>\n",
              "      <th>pixel32</th>\n",
              "      <th>pixel33</th>\n",
              "      <th>pixel34</th>\n",
              "      <th>pixel35</th>\n",
              "      <th>pixel36</th>\n",
              "      <th>pixel37</th>\n",
              "      <th>pixel38</th>\n",
              "      <th>...</th>\n",
              "      <th>pixel744</th>\n",
              "      <th>pixel745</th>\n",
              "      <th>pixel746</th>\n",
              "      <th>pixel747</th>\n",
              "      <th>pixel748</th>\n",
              "      <th>pixel749</th>\n",
              "      <th>pixel750</th>\n",
              "      <th>pixel751</th>\n",
              "      <th>pixel752</th>\n",
              "      <th>pixel753</th>\n",
              "      <th>pixel754</th>\n",
              "      <th>pixel755</th>\n",
              "      <th>pixel756</th>\n",
              "      <th>pixel757</th>\n",
              "      <th>pixel758</th>\n",
              "      <th>pixel759</th>\n",
              "      <th>pixel760</th>\n",
              "      <th>pixel761</th>\n",
              "      <th>pixel762</th>\n",
              "      <th>pixel763</th>\n",
              "      <th>pixel764</th>\n",
              "      <th>pixel765</th>\n",
              "      <th>pixel766</th>\n",
              "      <th>pixel767</th>\n",
              "      <th>pixel768</th>\n",
              "      <th>pixel769</th>\n",
              "      <th>pixel770</th>\n",
              "      <th>pixel771</th>\n",
              "      <th>pixel772</th>\n",
              "      <th>pixel773</th>\n",
              "      <th>pixel774</th>\n",
              "      <th>pixel775</th>\n",
              "      <th>pixel776</th>\n",
              "      <th>pixel777</th>\n",
              "      <th>pixel778</th>\n",
              "      <th>pixel779</th>\n",
              "      <th>pixel780</th>\n",
              "      <th>pixel781</th>\n",
              "      <th>pixel782</th>\n",
              "      <th>pixel783</th>\n",
              "    </tr>\n",
              "  </thead>\n",
              "  <tbody>\n",
              "    <tr>\n",
              "      <th>7684</th>\n",
              "      <td>9</td>\n",
              "      <td>0</td>\n",
              "      <td>0</td>\n",
              "      <td>0</td>\n",
              "      <td>0</td>\n",
              "      <td>0</td>\n",
              "      <td>0</td>\n",
              "      <td>0</td>\n",
              "      <td>0</td>\n",
              "      <td>0</td>\n",
              "      <td>0</td>\n",
              "      <td>0</td>\n",
              "      <td>0</td>\n",
              "      <td>0</td>\n",
              "      <td>0</td>\n",
              "      <td>0</td>\n",
              "      <td>0</td>\n",
              "      <td>0</td>\n",
              "      <td>0</td>\n",
              "      <td>0</td>\n",
              "      <td>0</td>\n",
              "      <td>0</td>\n",
              "      <td>0</td>\n",
              "      <td>0</td>\n",
              "      <td>0</td>\n",
              "      <td>0</td>\n",
              "      <td>0</td>\n",
              "      <td>0</td>\n",
              "      <td>0</td>\n",
              "      <td>0</td>\n",
              "      <td>0</td>\n",
              "      <td>0</td>\n",
              "      <td>0</td>\n",
              "      <td>0</td>\n",
              "      <td>0</td>\n",
              "      <td>0</td>\n",
              "      <td>0</td>\n",
              "      <td>0</td>\n",
              "      <td>0</td>\n",
              "      <td>0</td>\n",
              "      <td>...</td>\n",
              "      <td>0</td>\n",
              "      <td>0</td>\n",
              "      <td>0</td>\n",
              "      <td>0</td>\n",
              "      <td>0</td>\n",
              "      <td>0</td>\n",
              "      <td>0</td>\n",
              "      <td>0</td>\n",
              "      <td>0</td>\n",
              "      <td>0</td>\n",
              "      <td>0</td>\n",
              "      <td>0</td>\n",
              "      <td>0</td>\n",
              "      <td>0</td>\n",
              "      <td>0</td>\n",
              "      <td>0</td>\n",
              "      <td>0</td>\n",
              "      <td>0</td>\n",
              "      <td>0</td>\n",
              "      <td>0</td>\n",
              "      <td>0</td>\n",
              "      <td>0</td>\n",
              "      <td>0</td>\n",
              "      <td>0</td>\n",
              "      <td>0</td>\n",
              "      <td>0</td>\n",
              "      <td>0</td>\n",
              "      <td>0</td>\n",
              "      <td>0</td>\n",
              "      <td>0</td>\n",
              "      <td>0</td>\n",
              "      <td>0</td>\n",
              "      <td>0</td>\n",
              "      <td>0</td>\n",
              "      <td>0</td>\n",
              "      <td>0</td>\n",
              "      <td>0</td>\n",
              "      <td>0</td>\n",
              "      <td>0</td>\n",
              "      <td>0</td>\n",
              "    </tr>\n",
              "    <tr>\n",
              "      <th>23917</th>\n",
              "      <td>8</td>\n",
              "      <td>0</td>\n",
              "      <td>0</td>\n",
              "      <td>0</td>\n",
              "      <td>0</td>\n",
              "      <td>0</td>\n",
              "      <td>0</td>\n",
              "      <td>0</td>\n",
              "      <td>0</td>\n",
              "      <td>0</td>\n",
              "      <td>0</td>\n",
              "      <td>0</td>\n",
              "      <td>0</td>\n",
              "      <td>0</td>\n",
              "      <td>0</td>\n",
              "      <td>0</td>\n",
              "      <td>0</td>\n",
              "      <td>0</td>\n",
              "      <td>0</td>\n",
              "      <td>0</td>\n",
              "      <td>0</td>\n",
              "      <td>0</td>\n",
              "      <td>0</td>\n",
              "      <td>0</td>\n",
              "      <td>0</td>\n",
              "      <td>0</td>\n",
              "      <td>0</td>\n",
              "      <td>0</td>\n",
              "      <td>0</td>\n",
              "      <td>0</td>\n",
              "      <td>0</td>\n",
              "      <td>0</td>\n",
              "      <td>0</td>\n",
              "      <td>0</td>\n",
              "      <td>0</td>\n",
              "      <td>0</td>\n",
              "      <td>0</td>\n",
              "      <td>0</td>\n",
              "      <td>0</td>\n",
              "      <td>0</td>\n",
              "      <td>...</td>\n",
              "      <td>0</td>\n",
              "      <td>0</td>\n",
              "      <td>0</td>\n",
              "      <td>0</td>\n",
              "      <td>0</td>\n",
              "      <td>0</td>\n",
              "      <td>0</td>\n",
              "      <td>0</td>\n",
              "      <td>0</td>\n",
              "      <td>0</td>\n",
              "      <td>0</td>\n",
              "      <td>0</td>\n",
              "      <td>0</td>\n",
              "      <td>0</td>\n",
              "      <td>0</td>\n",
              "      <td>0</td>\n",
              "      <td>0</td>\n",
              "      <td>0</td>\n",
              "      <td>0</td>\n",
              "      <td>0</td>\n",
              "      <td>0</td>\n",
              "      <td>0</td>\n",
              "      <td>0</td>\n",
              "      <td>0</td>\n",
              "      <td>0</td>\n",
              "      <td>0</td>\n",
              "      <td>0</td>\n",
              "      <td>0</td>\n",
              "      <td>0</td>\n",
              "      <td>0</td>\n",
              "      <td>0</td>\n",
              "      <td>0</td>\n",
              "      <td>0</td>\n",
              "      <td>0</td>\n",
              "      <td>0</td>\n",
              "      <td>0</td>\n",
              "      <td>0</td>\n",
              "      <td>0</td>\n",
              "      <td>0</td>\n",
              "      <td>0</td>\n",
              "    </tr>\n",
              "    <tr>\n",
              "      <th>23541</th>\n",
              "      <td>5</td>\n",
              "      <td>0</td>\n",
              "      <td>0</td>\n",
              "      <td>0</td>\n",
              "      <td>0</td>\n",
              "      <td>0</td>\n",
              "      <td>0</td>\n",
              "      <td>0</td>\n",
              "      <td>0</td>\n",
              "      <td>0</td>\n",
              "      <td>0</td>\n",
              "      <td>0</td>\n",
              "      <td>0</td>\n",
              "      <td>0</td>\n",
              "      <td>0</td>\n",
              "      <td>0</td>\n",
              "      <td>0</td>\n",
              "      <td>0</td>\n",
              "      <td>0</td>\n",
              "      <td>0</td>\n",
              "      <td>0</td>\n",
              "      <td>0</td>\n",
              "      <td>0</td>\n",
              "      <td>0</td>\n",
              "      <td>0</td>\n",
              "      <td>0</td>\n",
              "      <td>0</td>\n",
              "      <td>0</td>\n",
              "      <td>0</td>\n",
              "      <td>0</td>\n",
              "      <td>0</td>\n",
              "      <td>0</td>\n",
              "      <td>0</td>\n",
              "      <td>0</td>\n",
              "      <td>0</td>\n",
              "      <td>0</td>\n",
              "      <td>0</td>\n",
              "      <td>0</td>\n",
              "      <td>0</td>\n",
              "      <td>0</td>\n",
              "      <td>...</td>\n",
              "      <td>0</td>\n",
              "      <td>0</td>\n",
              "      <td>0</td>\n",
              "      <td>0</td>\n",
              "      <td>0</td>\n",
              "      <td>0</td>\n",
              "      <td>0</td>\n",
              "      <td>0</td>\n",
              "      <td>0</td>\n",
              "      <td>0</td>\n",
              "      <td>0</td>\n",
              "      <td>0</td>\n",
              "      <td>0</td>\n",
              "      <td>0</td>\n",
              "      <td>0</td>\n",
              "      <td>0</td>\n",
              "      <td>0</td>\n",
              "      <td>0</td>\n",
              "      <td>0</td>\n",
              "      <td>0</td>\n",
              "      <td>0</td>\n",
              "      <td>0</td>\n",
              "      <td>0</td>\n",
              "      <td>0</td>\n",
              "      <td>0</td>\n",
              "      <td>0</td>\n",
              "      <td>0</td>\n",
              "      <td>0</td>\n",
              "      <td>0</td>\n",
              "      <td>0</td>\n",
              "      <td>0</td>\n",
              "      <td>0</td>\n",
              "      <td>0</td>\n",
              "      <td>0</td>\n",
              "      <td>0</td>\n",
              "      <td>0</td>\n",
              "      <td>0</td>\n",
              "      <td>0</td>\n",
              "      <td>0</td>\n",
              "      <td>0</td>\n",
              "    </tr>\n",
              "    <tr>\n",
              "      <th>18475</th>\n",
              "      <td>2</td>\n",
              "      <td>0</td>\n",
              "      <td>0</td>\n",
              "      <td>0</td>\n",
              "      <td>0</td>\n",
              "      <td>0</td>\n",
              "      <td>0</td>\n",
              "      <td>0</td>\n",
              "      <td>0</td>\n",
              "      <td>0</td>\n",
              "      <td>0</td>\n",
              "      <td>0</td>\n",
              "      <td>0</td>\n",
              "      <td>0</td>\n",
              "      <td>0</td>\n",
              "      <td>0</td>\n",
              "      <td>0</td>\n",
              "      <td>0</td>\n",
              "      <td>0</td>\n",
              "      <td>0</td>\n",
              "      <td>0</td>\n",
              "      <td>0</td>\n",
              "      <td>0</td>\n",
              "      <td>0</td>\n",
              "      <td>0</td>\n",
              "      <td>0</td>\n",
              "      <td>0</td>\n",
              "      <td>0</td>\n",
              "      <td>0</td>\n",
              "      <td>0</td>\n",
              "      <td>0</td>\n",
              "      <td>0</td>\n",
              "      <td>0</td>\n",
              "      <td>0</td>\n",
              "      <td>0</td>\n",
              "      <td>0</td>\n",
              "      <td>0</td>\n",
              "      <td>0</td>\n",
              "      <td>0</td>\n",
              "      <td>0</td>\n",
              "      <td>...</td>\n",
              "      <td>0</td>\n",
              "      <td>0</td>\n",
              "      <td>0</td>\n",
              "      <td>0</td>\n",
              "      <td>0</td>\n",
              "      <td>0</td>\n",
              "      <td>0</td>\n",
              "      <td>0</td>\n",
              "      <td>0</td>\n",
              "      <td>0</td>\n",
              "      <td>0</td>\n",
              "      <td>0</td>\n",
              "      <td>0</td>\n",
              "      <td>0</td>\n",
              "      <td>0</td>\n",
              "      <td>0</td>\n",
              "      <td>0</td>\n",
              "      <td>0</td>\n",
              "      <td>0</td>\n",
              "      <td>0</td>\n",
              "      <td>0</td>\n",
              "      <td>0</td>\n",
              "      <td>0</td>\n",
              "      <td>0</td>\n",
              "      <td>0</td>\n",
              "      <td>0</td>\n",
              "      <td>0</td>\n",
              "      <td>0</td>\n",
              "      <td>0</td>\n",
              "      <td>0</td>\n",
              "      <td>0</td>\n",
              "      <td>0</td>\n",
              "      <td>0</td>\n",
              "      <td>0</td>\n",
              "      <td>0</td>\n",
              "      <td>0</td>\n",
              "      <td>0</td>\n",
              "      <td>0</td>\n",
              "      <td>0</td>\n",
              "      <td>0</td>\n",
              "    </tr>\n",
              "    <tr>\n",
              "      <th>8601</th>\n",
              "      <td>3</td>\n",
              "      <td>0</td>\n",
              "      <td>0</td>\n",
              "      <td>0</td>\n",
              "      <td>0</td>\n",
              "      <td>0</td>\n",
              "      <td>0</td>\n",
              "      <td>0</td>\n",
              "      <td>0</td>\n",
              "      <td>0</td>\n",
              "      <td>0</td>\n",
              "      <td>0</td>\n",
              "      <td>0</td>\n",
              "      <td>0</td>\n",
              "      <td>0</td>\n",
              "      <td>0</td>\n",
              "      <td>0</td>\n",
              "      <td>0</td>\n",
              "      <td>0</td>\n",
              "      <td>0</td>\n",
              "      <td>0</td>\n",
              "      <td>0</td>\n",
              "      <td>0</td>\n",
              "      <td>0</td>\n",
              "      <td>0</td>\n",
              "      <td>0</td>\n",
              "      <td>0</td>\n",
              "      <td>0</td>\n",
              "      <td>0</td>\n",
              "      <td>0</td>\n",
              "      <td>0</td>\n",
              "      <td>0</td>\n",
              "      <td>0</td>\n",
              "      <td>0</td>\n",
              "      <td>0</td>\n",
              "      <td>0</td>\n",
              "      <td>0</td>\n",
              "      <td>0</td>\n",
              "      <td>0</td>\n",
              "      <td>0</td>\n",
              "      <td>...</td>\n",
              "      <td>0</td>\n",
              "      <td>0</td>\n",
              "      <td>0</td>\n",
              "      <td>0</td>\n",
              "      <td>0</td>\n",
              "      <td>0</td>\n",
              "      <td>0</td>\n",
              "      <td>0</td>\n",
              "      <td>0</td>\n",
              "      <td>0</td>\n",
              "      <td>0</td>\n",
              "      <td>0</td>\n",
              "      <td>0</td>\n",
              "      <td>0</td>\n",
              "      <td>0</td>\n",
              "      <td>0</td>\n",
              "      <td>0</td>\n",
              "      <td>0</td>\n",
              "      <td>0</td>\n",
              "      <td>0</td>\n",
              "      <td>0</td>\n",
              "      <td>0</td>\n",
              "      <td>0</td>\n",
              "      <td>0</td>\n",
              "      <td>0</td>\n",
              "      <td>0</td>\n",
              "      <td>0</td>\n",
              "      <td>0</td>\n",
              "      <td>0</td>\n",
              "      <td>0</td>\n",
              "      <td>0</td>\n",
              "      <td>0</td>\n",
              "      <td>0</td>\n",
              "      <td>0</td>\n",
              "      <td>0</td>\n",
              "      <td>0</td>\n",
              "      <td>0</td>\n",
              "      <td>0</td>\n",
              "      <td>0</td>\n",
              "      <td>0</td>\n",
              "    </tr>\n",
              "  </tbody>\n",
              "</table>\n",
              "<p>5 rows × 785 columns</p>\n",
              "</div>"
            ],
            "text/plain": [
              "       label  pixel0  pixel1  pixel2  ...  pixel780  pixel781  pixel782  pixel783\n",
              "7684       9       0       0       0  ...         0         0         0         0\n",
              "23917      8       0       0       0  ...         0         0         0         0\n",
              "23541      5       0       0       0  ...         0         0         0         0\n",
              "18475      2       0       0       0  ...         0         0         0         0\n",
              "8601       3       0       0       0  ...         0         0         0         0\n",
              "\n",
              "[5 rows x 785 columns]"
            ]
          },
          "metadata": {
            "tags": []
          },
          "execution_count": 3
        }
      ]
    },
    {
      "cell_type": "code",
      "metadata": {
        "id": "6lOQGI09jfs5"
      },
      "source": [
        "y = digits[\"label\"]\n",
        "digits = digits.drop(['label'],axis=1)"
      ],
      "execution_count": null,
      "outputs": []
    },
    {
      "cell_type": "code",
      "metadata": {
        "id": "8UOYg0avk0Zs"
      },
      "source": [
        "digits = np.array(digits)"
      ],
      "execution_count": null,
      "outputs": []
    },
    {
      "cell_type": "code",
      "metadata": {
        "colab": {
          "base_uri": "https://localhost:8080/"
        },
        "id": "USDirYX-jzl5",
        "outputId": "246ef98c-9703-4733-d257-d4a8b1d9d5f5"
      },
      "source": [
        "print(y.shape)\n",
        "print(digits.shape)"
      ],
      "execution_count": null,
      "outputs": [
        {
          "output_type": "stream",
          "text": [
            "(42000,)\n",
            "(42000, 784)\n"
          ],
          "name": "stdout"
        }
      ]
    },
    {
      "cell_type": "code",
      "metadata": {
        "colab": {
          "base_uri": "https://localhost:8080/",
          "height": 270
        },
        "id": "cJDTo68wkG8m",
        "outputId": "b30a52a0-b2bc-45ae-9d0f-54f3161b57c5"
      },
      "source": [
        "%pylab inline\n",
        "w, h = 28, 28\n",
        "rand_images=[]\n",
        "for i in range(0,64):\n",
        "  rand_images.append(randint(0,len(digits)))\n",
        "for x in range(0,len(rand_images)):\n",
        "  subplot(8,8,x+1)\n",
        "  data = np.reshape(digits[rand_images[x]][:],(28,28))\n",
        "  plt.imshow(data,cmap=\"bone_r\")\n",
        "  xticks([])\n",
        "  yticks([])"
      ],
      "execution_count": null,
      "outputs": [
        {
          "output_type": "stream",
          "text": [
            "Populating the interactive namespace from numpy and matplotlib\n"
          ],
          "name": "stdout"
        },
        {
          "output_type": "display_data",
          "data": {
            "image/png": "[encoded data removed]",
            "text/plain": [
              "<Figure size 432x288 with 64 Axes>"
            ]
          },
          "metadata": {
            "tags": []
          }
        }
      ]
    },
    {
      "cell_type": "markdown",
      "metadata": {
        "id": "6GarnIQrqqV8"
      },
      "source": [
        "##Helper Functions"
      ]
    },
    {
      "cell_type": "code",
      "metadata": {
        "id": "Y3-tWuc96aV_"
      },
      "source": [
        "def evaluate_classifier(clf, data, target, split_ratio):\n",
        "    trainX, testX, trainY, testY = train_test_split(data, target, train_size=split_ratio, random_state=0)\n",
        "    clf.fit(trainX, trainY)\n",
        "    return clf.score(testX,testY)"
      ],
      "execution_count": null,
      "outputs": []
    },
    {
      "cell_type": "markdown",
      "metadata": {
        "id": "wl-L2ZkHoFlI"
      },
      "source": [
        "##Random Forest\n",
        "\n",
        "This section will contain the random forest implimentation for the digit dataset."
      ]
    },
    {
      "cell_type": "code",
      "metadata": {
        "id": "Gkb32CbJoWMn"
      },
      "source": [
        "x_train, x_test, y_train, y_test = train_test_split(digits,y,test_size=0.15,random_state=66)#split data in test train sets."
      ],
      "execution_count": null,
      "outputs": []
    },
    {
      "cell_type": "code",
      "metadata": {
        "colab": {
          "base_uri": "https://localhost:8080/"
        },
        "id": "H3XSwlLAqI-L",
        "outputId": "60761313-42cf-4568-fd32-c3d5cb450d70"
      },
      "source": [
        "#Setup default model and fit on training data.\n",
        "clf = RandomForestClassifier()\n",
        "clf.fit(x_train,y_train)"
      ],
      "execution_count": null,
      "outputs": [
        {
          "output_type": "execute_result",
          "data": {
            "text/plain": [
              "RandomForestClassifier(bootstrap=True, ccp_alpha=0.0, class_weight=None,\n",
              "                       criterion='gini', max_depth=None, max_features='auto',\n",
              "                       max_leaf_nodes=None, max_samples=None,\n",
              "                       min_impurity_decrease=0.0, min_impurity_split=None,\n",
              "                       min_samples_leaf=1, min_samples_split=2,\n",
              "                       min_weight_fraction_leaf=0.0, n_estimators=100,\n",
              "                       n_jobs=None, oob_score=False, random_state=None,\n",
              "                       verbose=0, warm_start=False)"
            ]
          },
          "metadata": {
            "tags": []
          },
          "execution_count": 34
        }
      ]
    },
    {
      "cell_type": "code",
      "metadata": {
        "id": "oG4SVuqtqGq9"
      },
      "source": [
        "#Predict values on test set.\n",
        "y_predict = clf.predict(x_test)"
      ],
      "execution_count": null,
      "outputs": []
    },
    {
      "cell_type": "code",
      "metadata": {
        "id": "miMHSuQysBkt"
      },
      "source": [
        "labs = [0,1,2,3,4,5,6,7,8,9]"
      ],
      "execution_count": null,
      "outputs": []
    },
    {
      "cell_type": "code",
      "metadata": {
        "id": "MNzwwfG_qgg4"
      },
      "source": [
        "cr = classification_report(y_test,y_predict,labels=labs)\n",
        "cm = multilabel_confusion_matrix(y_test,y_predict,labels=labs)"
      ],
      "execution_count": null,
      "outputs": []
    },
    {
      "cell_type": "code",
      "metadata": {
        "colab": {
          "base_uri": "https://localhost:8080/"
        },
        "id": "UD-rvrIavZcy",
        "outputId": "926f41f8-86ee-416f-97d3-fe732fc4d1cb"
      },
      "source": [
        "print(cr)"
      ],
      "execution_count": null,
      "outputs": [
        {
          "output_type": "stream",
          "text": [
            "              precision    recall  f1-score   support\n",
            "\n",
            "           0       0.97      0.99      0.98       597\n",
            "           1       0.99      0.99      0.99       677\n",
            "           2       0.96      0.96      0.96       622\n",
            "           3       0.96      0.95      0.96       650\n",
            "           4       0.96      0.96      0.96       654\n",
            "           5       0.95      0.96      0.95       548\n",
            "           6       0.97      0.98      0.98       632\n",
            "           7       0.97      0.97      0.97       660\n",
            "           8       0.97      0.95      0.96       609\n",
            "           9       0.94      0.94      0.94       651\n",
            "\n",
            "    accuracy                           0.97      6300\n",
            "   macro avg       0.97      0.97      0.97      6300\n",
            "weighted avg       0.97      0.97      0.97      6300\n",
            "\n"
          ],
          "name": "stdout"
        }
      ]
    },
    {
      "cell_type": "code",
      "metadata": {
        "colab": {
          "base_uri": "https://localhost:8080/",
          "height": 279
        },
        "id": "gQlNYP_fs7kP",
        "outputId": "ef2debb5-9cfa-4b32-af15-daeef012d275"
      },
      "source": [
        "plot_confusion_matrix(clf, x_test, y_test)\n",
        "plt.show()"
      ],
      "execution_count": null,
      "outputs": [
        {
          "output_type": "display_data",
          "data": {
            "image/png": "[encoded data removed]",
            "text/plain": [
              "<Figure size 432x288 with 2 Axes>"
            ]
          },
          "metadata": {
            "tags": [],
            "needs_background": "light"
          }
        }
      ]
    },
    {
      "cell_type": "markdown",
      "metadata": {
        "id": "VtZlH8Sxu6us"
      },
      "source": [
        "According to the classification report above this model is working with about .97 accuracy overall. The above \"confusion matrix\" shows that the model is very accurate with its predictions. Another note here is that with all default settings the model ran with 100 estimators. To see which amount of estimator would be best the model will be ran multiple times at each number of estimators. Then the accuracy will be averaged for each number of estimators and compared."
      ]
    },
    {
      "cell_type": "code",
      "metadata": {
        "id": "z6dnDjscu5tl"
      },
      "source": [
        "n_estimators = [1,5,10,50,100,500,1000]\n",
        "#n_estimators = [1,5]\n",
        "samples = 10 #number of times to run each model.\n",
        "accs = np.zeros(len(n_estimators))\n",
        "sigma = np.zeros(len(n_estimators))\n",
        "j=0\n",
        "for n in n_estimators:\n",
        "  local_scores = np.zeros(samples)\n",
        "  for i in range(0,samples):\n",
        "    clf = RandomForestClassifier(n_estimators = n, n_jobs=1, criterion=\"gini\")#setup model params\n",
        "    clf.fit(x_train[0:1000],y_train[0:1000])\n",
        "    y_pred = clf.predict(x_test[0:1000])\n",
        "    local_scores[i] = accuracy_score(y_test[0:1000],y_pred)\n",
        "  accs[j]= mean(local_scores)\n",
        "  sigma[j]= std(local_scores)\n",
        "\n",
        "  j=j+1\n"
      ],
      "execution_count": null,
      "outputs": []
    },
    {
      "cell_type": "markdown",
      "metadata": {
        "id": "PJoayCz09YGP"
      },
      "source": [
        "##PCA and KNN\n",
        "\n",
        "This section analyzes the features of this dataset, uses pca to reduce number of features, and uses KNN to evaluate such results."
      ]
    },
    {
      "cell_type": "code",
      "metadata": {
        "colab": {
          "base_uri": "https://localhost:8080/",
          "height": 238
        },
        "id": "eDf07M_AzhpH",
        "outputId": "94952c9c-5c02-4bc5-849c-c157525ccf32"
      },
      "source": [
        "figure(figsize(7,3))\n",
        "errorbar(n_estimators, accs, yerr=sigma, fmt='k.-')\n",
        "xscale(\"log\")\n",
        "xlabel(\"number of estimators\",size = 20)\n",
        "ylabel(\"accuracy\",size = 20)\n",
        "xlim(0.9,600)\n",
        "grid(which=\"both\")"
      ],
      "execution_count": null,
      "outputs": [
        {
          "output_type": "display_data",
          "data": {
            "image/png": "[encoded data removed]",
            "text/plain": [
              "<Figure size 504x216 with 1 Axes>"
            ]
          },
          "metadata": {
            "tags": [],
            "needs_background": "light"
          }
        }
      ]
    },
    {
      "cell_type": "markdown",
      "metadata": {
        "id": "6mjjCs9-1NpA"
      },
      "source": [
        "The above code and graph is heavily based on the relevant document for this section of the project. As seen in the graph the return on accuracy is greatly diminished after 50 tree models. Even increasing to 1000 trees compared to 100 yielded little in accuracy improvement.\n",
        "\n",
        "The next step in this section is to analyze feature importance. First with the given features and then using pca to see how many pca features are necessary to cover most of the data."
      ]
    },
    {
      "cell_type": "code",
      "metadata": {
        "colab": {
          "base_uri": "https://localhost:8080/",
          "height": 454
        },
        "id": "z6q82CR82HtK",
        "outputId": "e180e12b-65fb-4954-97d6-e8493203e303"
      },
      "source": [
        "importances = clf.feature_importances_\n",
        "indices = np.argsort(importances)[::-1]\n",
        "\n",
        "print(\"Feature ranking:\")\n",
        "for f in range(0,10):\n",
        "    print(\"%d. feature %d (%f)\" % (f + 1, indices[f], importances[indices[f]]))\n",
        "\n",
        "# Plot the feature importances\n",
        "\n",
        "figure(figsize(7,3))\n",
        "plot(indices[:],importances[indices[:]],'k.')\n",
        "yscale(\"log\")\n",
        "xlabel(\"feature\",size=20)\n",
        "ylabel(\"importance\",size=20)"
      ],
      "execution_count": null,
      "outputs": [
        {
          "output_type": "stream",
          "text": [
            "Feature ranking:\n",
            "1. feature 378 (0.010490)\n",
            "2. feature 350 (0.009372)\n",
            "3. feature 409 (0.007872)\n",
            "4. feature 514 (0.007631)\n",
            "5. feature 406 (0.007493)\n",
            "6. feature 405 (0.007333)\n",
            "7. feature 515 (0.007156)\n",
            "8. feature 377 (0.007025)\n",
            "9. feature 430 (0.006947)\n",
            "10. feature 433 (0.006653)\n"
          ],
          "name": "stdout"
        },
        {
          "output_type": "execute_result",
          "data": {
            "text/plain": [
              "Text(0, 0.5, 'importance')"
            ]
          },
          "metadata": {
            "tags": []
          },
          "execution_count": 68
        },
        {
          "output_type": "display_data",
          "data": {
            "image/png": "[encoded data removed]",
            "text/plain": [
              "<Figure size 504x216 with 1 Axes>"
            ]
          },
          "metadata": {
            "tags": [],
            "needs_background": "light"
          }
        }
      ]
    },
    {
      "cell_type": "markdown",
      "metadata": {
        "id": "T9MdSQw62KtE"
      },
      "source": [
        "While some features are more important than others, it doesn't appear there are a reasonable number of features that are the most important. Next PCA will be used to decide how many pca features should be used on this dataset. The above and below code come from the document provided for this project."
      ]
    },
    {
      "cell_type": "code",
      "metadata": {
        "id": "bnkdIpqQ2dM_"
      },
      "source": [
        "n_components_array=([1,2,3,4,5,10,20,50,100,200,500])\n",
        "vr = np.zeros(len(n_components_array))\n",
        "i=0;\n",
        "for n_components in n_components_array:\n",
        "    pca = PCA(n_components=n_components)\n",
        "    pca.fit(x_train)\n",
        "    vr[i] = sum(pca.explained_variance_ratio_)\n",
        "    i=i+1   "
      ],
      "execution_count": null,
      "outputs": []
    },
    {
      "cell_type": "code",
      "metadata": {
        "colab": {
          "base_uri": "https://localhost:8080/",
          "height": 310
        },
        "id": "7gFB7hVH2mgx",
        "outputId": "2cba2f57-5182-4b8e-be62-35a1a5b0bb74"
      },
      "source": [
        "figure(figsize(8,4))\n",
        "plot(n_components_array,vr,'k.-')\n",
        "xscale(\"log\")\n",
        "ylim(9e-2,1.1)\n",
        "yticks(linspace(0.2,1.0,9))\n",
        "xlim(0.9)\n",
        "grid(which=\"both\")\n",
        "xlabel(\"number of PCA components\",size=20)\n",
        "ylabel(\"variance ratio\",size=20)"
      ],
      "execution_count": null,
      "outputs": [
        {
          "output_type": "execute_result",
          "data": {
            "text/plain": [
              "Text(0, 0.5, 'variance ratio')"
            ]
          },
          "metadata": {
            "tags": []
          },
          "execution_count": 71
        },
        {
          "output_type": "display_data",
          "data": {
            "image/png": "[encoded data removed]",
            "text/plain": [
              "<Figure size 576x288 with 1 Axes>"
            ]
          },
          "metadata": {
            "tags": [],
            "needs_background": "light"
          }
        }
      ]
    },
    {
      "cell_type": "markdown",
      "metadata": {
        "id": "WyuMdw1i3AKP"
      },
      "source": [
        "According to this data over 100 features are necessary to cover at least 90% of the data and its variance. With this in mind how many compoonents are necessary to have an accurate KNN model? It stands to reason that at least 100 pca features are necessary, but more may be required for higher accuracies."
      ]
    },
    {
      "cell_type": "code",
      "metadata": {
        "id": "0heBMvtJ3haG"
      },
      "source": [
        "clf = KNeighborsClassifier()\n",
        "n_components_array=([1,2,3,4,5,10,20,50,100,200,500])\n",
        "score_array = np.zeros(len(n_components_array))\n",
        "i=0\n",
        "\n",
        "for n_components in n_components_array:\n",
        "    pca = PCA(n_components=n_components)\n",
        "    pca.fit(train)\n",
        "    transform = pca.transform(train.iloc[0:1000])\n",
        "    score_array[i] = evaluate_classifier(clf, transform, target.iloc[0:1000], 0.8)\n",
        "    i=i+1"
      ],
      "execution_count": null,
      "outputs": []
    },
    {
      "cell_type": "code",
      "metadata": {
        "colab": {
          "base_uri": "https://localhost:8080/",
          "height": 292
        },
        "id": "uhkvIQ-e6TQy",
        "outputId": "8136d2cd-69a9-48b7-e996-4cf14d0063c5"
      },
      "source": [
        "figure(figsize(8,4))\n",
        "plot(n_components_array,score_array,'k.-')\n",
        "xscale('log')\n",
        "xlabel(\"number of PCA components\", size=20)\n",
        "ylabel(\"accuracy\", size=20)\n",
        "grid(which=\"both\")"
      ],
      "execution_count": null,
      "outputs": [
        {
          "output_type": "display_data",
          "data": {
            "image/png": "[encoded data removed]",
            "text/plain": [
              "<Figure size 576x288 with 1 Axes>"
            ]
          },
          "metadata": {
            "tags": [],
            "needs_background": "light"
          }
        }
      ]
    },
    {
      "cell_type": "markdown",
      "metadata": {
        "id": "c2PHpUbN7L7e"
      },
      "source": [
        "As suspected 100 pca features did provided a reasonably good accuracy. However, not until 200 features did the accuracy reach about 90%. \n",
        "\n",
        "Compared to the highest preforming of the random forest KNN does worse roughly 7% lower accuracy. This is not suprising, but does show the power of pca. Another interesting piece of this graph is the decrease of accuracy as the noumber of features exceeds 200. This is slightly strange because the model is now covering more varience of the data. \n",
        "\n",
        "The reason for this loss in accuracy could be the model overfitting to the data. This theory is more likely becuase of the limited data set of 1000 that the models are training on."
      ]
    }
  ]
}