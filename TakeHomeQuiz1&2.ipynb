{
  "nbformat": 4,
  "nbformat_minor": 0,
  "metadata": {
    "colab": {
      "name": "TakeHomeQuiz1&2.ipynb",
      "provenance": [],
      "collapsed_sections": [],
      "authorship_tag": "ABX9TyOiQUjM8/5bqdEO3pIJPYck",
      "include_colab_link": true
    },
    "kernelspec": {
      "name": "python3",
      "display_name": "Python 3"
    }
  },
  "cells": [
    {
      "cell_type": "markdown",
      "metadata": {
        "id": "view-in-github",
        "colab_type": "text"
      },
      "source": [
        "<a href=\"https://colab.research.google.com/github/D-Beall/MachineLearning/blob/master/TakeHomeQuiz1%262.ipynb\" target=\"_parent\"><img src=\"https://colab.research.google.com/assets/colab-badge.svg\" alt=\"Open In Colab\"/></a>"
      ]
    },
    {
      "cell_type": "markdown",
      "metadata": {
        "id": "wLWRB71hdIDp",
        "colab_type": "text"
      },
      "source": [
        "**Quiz 1**"
      ]
    },
    {
      "cell_type": "markdown",
      "metadata": {
        "id": "Io1daj37cp1I",
        "colab_type": "text"
      },
      "source": [
        "Problem: Voter Detection (Will someone vote in a certain election?)\n",
        "\n",
        "Given various information about a voter determine if they will vote in the next election. Information could include age, sex, previous voting record, income level, religion, and race."
      ]
    },
    {
      "cell_type": "code",
      "metadata": {
        "id": "F8HBfxCGUAdY",
        "colab_type": "code",
        "colab": {
          "base_uri": "https://localhost:8080/",
          "height": 72
        },
        "outputId": "86781938-4dab-4c76-81b3-63e6890383e8"
      },
      "source": [
        "trueY = [1,1,1,0,0,1,0,0,0,0]\n",
        "predY = [1,1,1,1,0,1,1,0,0,0]\n",
        "from sklearn.metrics import accuracy_score, recall_score, precision_score\n",
        "accuracy = accuracy_score(trueY, predY)\n",
        "sensitivity = recall_score(trueY, predY) #Recall == sensitivity tp/(tp+fn)\n",
        "precision = precision_score(trueY, predY) #tp / (tp + fp)\n",
        "print(\"Accuracy: \" + str(accuracy))\n",
        "print(\"Sensitivity: \" + str(sensitivity))\n",
        "print(\"Precision: \" + str(precision))"
      ],
      "execution_count": 9,
      "outputs": [
        {
          "output_type": "stream",
          "text": [
            "Accuracy: 0.8\n",
            "Sensitivity: 1.0\n",
            "Precision: 0.6666666666666666\n"
          ],
          "name": "stdout"
        }
      ]
    },
    {
      "cell_type": "markdown",
      "metadata": {
        "id": "Ty2T4G6ja3FA",
        "colab_type": "text"
      },
      "source": [
        "Accuracy, this measures the percentage of correct predictions. In this case the model correctly identifies a voter 80% of the time.\n",
        "\n",
        "Sensitivity or recall(according the sklearn documentation) measures how well the model predicts a true positive value compared to a false negative one. This model appears to be good at predicting that a voter will vote or simply predicates true too often.\n",
        "\n",
        "Precision(according to the sklearn documetion) measures how well the model predicts a true result compared to a false positive. This model appears to be prone to false positives based on its precision score.\n"
      ]
    },
    {
      "cell_type": "markdown",
      "metadata": {
        "id": "WiStLL09dOjC",
        "colab_type": "text"
      },
      "source": [
        "**Quiz 2**\n",
        "\n",
        "k=1\n",
        "\n",
        "In this case incorrect      classification could easily occur. Having 1 neighbor for classification isn't enough information for accurate classification. One close neighbor would outweigh  10 other neighbors that are only slightly less close to the value in question.\n",
        "\n",
        "k=n\n",
        "\n",
        "This situation would case the value in question to always be classified in the same way. Whichever classification had the majority will keep it. This is a situation where too much information is used when classifying a value. With every new value being classified the same way the model becomes quite useless. \n"
      ]
    }
  ]
}