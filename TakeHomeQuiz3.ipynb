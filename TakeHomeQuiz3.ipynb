{
  "nbformat": 4,
  "nbformat_minor": 0,
  "metadata": {
    "kernelspec": {
      "language": "python",
      "display_name": "Python 3",
      "name": "python3"
    },
    "language_info": {
      "pygments_lexer": "ipython3",
      "nbconvert_exporter": "python",
      "version": "3.6.4",
      "file_extension": ".py",
      "codemirror_mode": {
        "name": "ipython",
        "version": 3
      },
      "name": "python",
      "mimetype": "text/x-python"
    },
    "colab": {
      "name": "Quiz3.ipynb",
      "provenance": [],
      "collapsed_sections": [],
      "include_colab_link": true
    }
  },
  "cells": [
    {
      "cell_type": "markdown",
      "metadata": {
        "id": "view-in-github",
        "colab_type": "text"
      },
      "source": [
        "<a href=\"https://colab.research.google.com/github/D-Beall/MachineLearning/blob/master/TakeHomeQuiz3.ipynb\" target=\"_parent\"><img src=\"https://colab.research.google.com/assets/colab-badge.svg\" alt=\"Open In Colab\"/></a>"
      ]
    },
    {
      "cell_type": "markdown",
      "metadata": {
        "id": "8UCMuUgcUXV4"
      },
      "source": [
        "<a id=\"T1\"></a>\n",
        "# Task\n",
        "\n",
        "1) Develop an estimated multiple linear regression equation with mbap as response variable and sscp & hscp as the two predictor variables. Interpret the regression coefficients and check whether they are significant based on the summary output.\n",
        "\n",
        "---\n",
        "2) Estimate a multiple regression equation for each of the below scenarios and based on the model’s R-square comment which model is better. \n",
        "    \n",
        "    (i) Use mbap as outcome variable and sscp & degreep as the two predictor variables.\n",
        "    \n",
        "    (ii) Use mbap as outcome variable and hscp & degreep as the two predictor variables. \n",
        "---\n",
        "3) Show the functional form of a multiple regression model. Build a regression model with mbap as dependent variable and sscp, hscp and degree_p as three independent variables. \n",
        "    \n",
        "    Divide the dataset in the ratio of 80:20 for train and test set (set seed as 1001) and use the train set to build the model. Show the model summary and interpret the p-values of the regression coefficients. \n",
        "    \n",
        "    Remove any insignificant variables and rebuild the model. \n",
        "    \n",
        "    Use this model for prediction on the test set and show the first few observations’ actual value of the test set in comparison to the predicted value."
      ]
    },
    {
      "cell_type": "markdown",
      "metadata": {
        "id": "nbtsL8tcUXV9"
      },
      "source": [
        "<a id=\"T21\"></a>\n",
        "# Packages used"
      ]
    },
    {
      "cell_type": "code",
      "metadata": {
        "_uuid": "8f2839f25d086af736a60e9eeb907d3b93b6e0e5",
        "_cell_guid": "b1076dfc-b9ad-4769-8c92-a6c4dae69d19",
        "trusted": true,
        "id": "CBchsk2NUXWC",
        "outputId": "96691975-2c9d-4281-a149-40f2b9ba3b34",
        "colab": {
          "base_uri": "https://localhost:8080/",
          "height": 75
        }
      },
      "source": [
        "#Libraries used in the kernel\n",
        "\n",
        "import numpy as np # linear algebra\n",
        "import pandas as pd # data processing, CSV file I/O (e.g. pd.read_csv)\n",
        "import seaborn as sns # graphs potting \n",
        "import matplotlib.pyplot as plt\n",
        "from sklearn.model_selection import train_test_split\n",
        "from sklearn.linear_model import LinearRegression\n",
        "from sklearn.metrics import r2_score, classification_report\n",
        "from statsmodels.api import OLS"
      ],
      "execution_count": 1,
      "outputs": [
        {
          "output_type": "stream",
          "text": [
            "/usr/local/lib/python3.6/dist-packages/statsmodels/tools/_testing.py:19: FutureWarning: pandas.util.testing is deprecated. Use the functions in the public API at pandas.testing instead.\n",
            "  import pandas.util.testing as tm\n"
          ],
          "name": "stderr"
        }
      ]
    },
    {
      "cell_type": "markdown",
      "metadata": {
        "id": "OHrOYkvzUXWd"
      },
      "source": [
        "<a id=\"T22\"></a>\n",
        "# Import Dataset"
      ]
    },
    {
      "cell_type": "code",
      "metadata": {
        "id": "OjUAlsNMUtFp",
        "outputId": "2a39edf5-9adf-4894-cbb6-e1f0da66eb04",
        "colab": {
          "base_uri": "https://localhost:8080/",
          "height": 36
        }
      },
      "source": [
        "from google.colab import drive\n",
        "drive.mount('/content/drive')"
      ],
      "execution_count": 2,
      "outputs": [
        {
          "output_type": "stream",
          "text": [
            "Mounted at /content/drive\n"
          ],
          "name": "stdout"
        }
      ]
    },
    {
      "cell_type": "code",
      "metadata": {
        "_uuid": "d629ff2d2480ee46fbb7e2d37f6b5fab8052498a",
        "_cell_guid": "79c7e3d0-c299-4dcb-8224-4455121ee9b0",
        "trusted": true,
        "id": "jP9lbffaUXWi",
        "outputId": "f3bc17f2-c9ce-403d-ea57-4462a32791da",
        "colab": {
          "base_uri": "https://localhost:8080/",
          "height": 237
        }
      },
      "source": [
        "dataframe = pd.read_csv(\"./drive/My Drive/Machine Learning/Placement_Data_Full_Class.csv\", index_col=\"sl_no\")\n",
        "dataframe.head()"
      ],
      "execution_count": 3,
      "outputs": [
        {
          "output_type": "execute_result",
          "data": {
            "text/html": [
              "<div>\n",
              "<style scoped>\n",
              "    .dataframe tbody tr th:only-of-type {\n",
              "        vertical-align: middle;\n",
              "    }\n",
              "\n",
              "    .dataframe tbody tr th {\n",
              "        vertical-align: top;\n",
              "    }\n",
              "\n",
              "    .dataframe thead th {\n",
              "        text-align: right;\n",
              "    }\n",
              "</style>\n",
              "<table border=\"1\" class=\"dataframe\">\n",
              "  <thead>\n",
              "    <tr style=\"text-align: right;\">\n",
              "      <th></th>\n",
              "      <th>gender</th>\n",
              "      <th>ssc_p</th>\n",
              "      <th>ssc_b</th>\n",
              "      <th>hsc_p</th>\n",
              "      <th>hsc_b</th>\n",
              "      <th>hsc_s</th>\n",
              "      <th>degree_p</th>\n",
              "      <th>degree_t</th>\n",
              "      <th>workex</th>\n",
              "      <th>etest_p</th>\n",
              "      <th>specialisation</th>\n",
              "      <th>mba_p</th>\n",
              "      <th>status</th>\n",
              "      <th>salary</th>\n",
              "    </tr>\n",
              "    <tr>\n",
              "      <th>sl_no</th>\n",
              "      <th></th>\n",
              "      <th></th>\n",
              "      <th></th>\n",
              "      <th></th>\n",
              "      <th></th>\n",
              "      <th></th>\n",
              "      <th></th>\n",
              "      <th></th>\n",
              "      <th></th>\n",
              "      <th></th>\n",
              "      <th></th>\n",
              "      <th></th>\n",
              "      <th></th>\n",
              "      <th></th>\n",
              "    </tr>\n",
              "  </thead>\n",
              "  <tbody>\n",
              "    <tr>\n",
              "      <th>1</th>\n",
              "      <td>M</td>\n",
              "      <td>67.00</td>\n",
              "      <td>Others</td>\n",
              "      <td>91.00</td>\n",
              "      <td>Others</td>\n",
              "      <td>Commerce</td>\n",
              "      <td>58.00</td>\n",
              "      <td>Sci&amp;Tech</td>\n",
              "      <td>No</td>\n",
              "      <td>55.0</td>\n",
              "      <td>Mkt&amp;HR</td>\n",
              "      <td>58.80</td>\n",
              "      <td>Placed</td>\n",
              "      <td>270000.0</td>\n",
              "    </tr>\n",
              "    <tr>\n",
              "      <th>2</th>\n",
              "      <td>M</td>\n",
              "      <td>79.33</td>\n",
              "      <td>Central</td>\n",
              "      <td>78.33</td>\n",
              "      <td>Others</td>\n",
              "      <td>Science</td>\n",
              "      <td>77.48</td>\n",
              "      <td>Sci&amp;Tech</td>\n",
              "      <td>Yes</td>\n",
              "      <td>86.5</td>\n",
              "      <td>Mkt&amp;Fin</td>\n",
              "      <td>66.28</td>\n",
              "      <td>Placed</td>\n",
              "      <td>200000.0</td>\n",
              "    </tr>\n",
              "    <tr>\n",
              "      <th>3</th>\n",
              "      <td>M</td>\n",
              "      <td>65.00</td>\n",
              "      <td>Central</td>\n",
              "      <td>68.00</td>\n",
              "      <td>Central</td>\n",
              "      <td>Arts</td>\n",
              "      <td>64.00</td>\n",
              "      <td>Comm&amp;Mgmt</td>\n",
              "      <td>No</td>\n",
              "      <td>75.0</td>\n",
              "      <td>Mkt&amp;Fin</td>\n",
              "      <td>57.80</td>\n",
              "      <td>Placed</td>\n",
              "      <td>250000.0</td>\n",
              "    </tr>\n",
              "    <tr>\n",
              "      <th>4</th>\n",
              "      <td>M</td>\n",
              "      <td>56.00</td>\n",
              "      <td>Central</td>\n",
              "      <td>52.00</td>\n",
              "      <td>Central</td>\n",
              "      <td>Science</td>\n",
              "      <td>52.00</td>\n",
              "      <td>Sci&amp;Tech</td>\n",
              "      <td>No</td>\n",
              "      <td>66.0</td>\n",
              "      <td>Mkt&amp;HR</td>\n",
              "      <td>59.43</td>\n",
              "      <td>Not Placed</td>\n",
              "      <td>NaN</td>\n",
              "    </tr>\n",
              "    <tr>\n",
              "      <th>5</th>\n",
              "      <td>M</td>\n",
              "      <td>85.80</td>\n",
              "      <td>Central</td>\n",
              "      <td>73.60</td>\n",
              "      <td>Central</td>\n",
              "      <td>Commerce</td>\n",
              "      <td>73.30</td>\n",
              "      <td>Comm&amp;Mgmt</td>\n",
              "      <td>No</td>\n",
              "      <td>96.8</td>\n",
              "      <td>Mkt&amp;Fin</td>\n",
              "      <td>55.50</td>\n",
              "      <td>Placed</td>\n",
              "      <td>425000.0</td>\n",
              "    </tr>\n",
              "  </tbody>\n",
              "</table>\n",
              "</div>"
            ],
            "text/plain": [
              "      gender  ssc_p    ssc_b  hsc_p  ... specialisation  mba_p      status    salary\n",
              "sl_no                                ...                                            \n",
              "1          M  67.00   Others  91.00  ...         Mkt&HR  58.80      Placed  270000.0\n",
              "2          M  79.33  Central  78.33  ...        Mkt&Fin  66.28      Placed  200000.0\n",
              "3          M  65.00  Central  68.00  ...        Mkt&Fin  57.80      Placed  250000.0\n",
              "4          M  56.00  Central  52.00  ...         Mkt&HR  59.43  Not Placed       NaN\n",
              "5          M  85.80  Central  73.60  ...        Mkt&Fin  55.50      Placed  425000.0\n",
              "\n",
              "[5 rows x 14 columns]"
            ]
          },
          "metadata": {
            "tags": []
          },
          "execution_count": 3
        }
      ]
    },
    {
      "cell_type": "code",
      "metadata": {
        "trusted": true,
        "id": "u3uDIhwnUXW2"
      },
      "source": [
        "#Make copies of dataframe\n",
        "data_reg = dataframe.copy()\n",
        "data_class = dataframe.copy()"
      ],
      "execution_count": 4,
      "outputs": []
    },
    {
      "cell_type": "markdown",
      "metadata": {
        "id": "eOgrHsZlUXXH"
      },
      "source": [
        "<a id=\"T3\"></a>\n",
        "# Data Visualization"
      ]
    },
    {
      "cell_type": "markdown",
      "metadata": {
        "id": "COQID3LGUXXM"
      },
      "source": [
        "**This plot shows marks distribution in MBA score**"
      ]
    },
    {
      "cell_type": "code",
      "metadata": {
        "trusted": true,
        "id": "yqdL89KPUXXP",
        "outputId": "d1ba7455-713a-4619-afa2-16735c09d333",
        "colab": {
          "base_uri": "https://localhost:8080/",
          "height": 279
        }
      },
      "source": [
        "sns.kdeplot(dataframe.mba_p[ dataframe.gender==\"M\"])\n",
        "sns.kdeplot(dataframe.mba_p[ dataframe.gender==\"F\"])\n",
        "plt.legend([\"Male\", \"Female\"])\n",
        "plt.xlabel(\"mba percentage\")\n",
        "plt.show()"
      ],
      "execution_count": 5,
      "outputs": [
        {
          "output_type": "display_data",
          "data": {
            "image/png": "[encoded data removed]",
            "text/plain": [
              "<Figure size 432x288 with 1 Axes>"
            ]
          },
          "metadata": {
            "tags": [],
            "needs_background": "light"
          }
        }
      ]
    },
    {
      "cell_type": "markdown",
      "metadata": {
        "id": "XlUSRzRZUXXj"
      },
      "source": [
        "_average density plot shows Male has lower average score in MBA than Females."
      ]
    },
    {
      "cell_type": "markdown",
      "metadata": {
        "id": "91sO0gQlUXXm"
      },
      "source": [
        "**Correlation between different features**"
      ]
    },
    {
      "cell_type": "code",
      "metadata": {
        "trusted": true,
        "id": "qPYFp3pkUXXq",
        "outputId": "ec633044-31b2-4df2-a4db-baa0e8313341",
        "colab": {
          "base_uri": "https://localhost:8080/",
          "height": 379
        }
      },
      "source": [
        "matrix = dataframe.corr()\n",
        "plt.figure(figsize=(8,6))\n",
        "#plot heat map\n",
        "g=sns.heatmap(matrix,annot=True,cmap=\"YlGn_r\")"
      ],
      "execution_count": 6,
      "outputs": [
        {
          "output_type": "display_data",
          "data": {
            "image/png": "[encoded data removed]",
            "text/plain": [
              "<Figure size 576x432 with 2 Axes>"
            ]
          },
          "metadata": {
            "tags": [],
            "needs_background": "light"
          }
        }
      ]
    },
    {
      "cell_type": "markdown",
      "metadata": {
        "id": "ZT7Wd1ITUXX7"
      },
      "source": [
        "_Senior secondary have a higher correlation with MBA score than Higher secondary score_"
      ]
    },
    {
      "cell_type": "code",
      "metadata": {
        "trusted": true,
        "id": "9gG7vAn9UXX_",
        "outputId": "176503d9-8f4a-4481-92b5-7b15578c8cc0",
        "colab": {
          "base_uri": "https://localhost:8080/",
          "height": 498
        }
      },
      "source": [
        "plt.figure(figsize=(12,8))\n",
        "sns.regplot(x=\"ssc_p\",y=\"mba_p\",data=dataframe)\n",
        "sns.regplot(x=\"hsc_p\",y=\"mba_p\",data=dataframe)\n",
        "plt.legend([\"ssc percentage\", \"hsc percentage\"])\n",
        "plt.ylabel(\"mba percentage\")\n",
        "plt.show()"
      ],
      "execution_count": 7,
      "outputs": [
        {
          "output_type": "display_data",
          "data": {
            "image/png": "[encoded data removed]",
            "text/plain": [
              "<Figure size 864x576 with 1 Axes>"
            ]
          },
          "metadata": {
            "tags": [],
            "needs_background": "light"
          }
        }
      ]
    },
    {
      "cell_type": "markdown",
      "metadata": {
        "id": "HBs14VMLUXYQ"
      },
      "source": [
        "_SSC percentage slightly weighs more for having good MBA score_"
      ]
    },
    {
      "cell_type": "markdown",
      "metadata": {
        "id": "LZEXeIv_UXYT"
      },
      "source": [
        "<a id=\"T4\"></a>\n",
        "# Task 1: Training regression model"
      ]
    },
    {
      "cell_type": "markdown",
      "metadata": {
        "id": "E5DqYQPKUXYW"
      },
      "source": [
        "1. **Develop an estimated multiple linear regression equation with mbap as response variable and sscp & hscp as the two predictor variables. Interpret the regression coefficients and check whether they are significant based on the summary output**"
      ]
    },
    {
      "cell_type": "markdown",
      "metadata": {
        "id": "P_vRlp7_UXYZ"
      },
      "source": [
        "<a id=\"T41\"></a>\n",
        "# Pre processing data"
      ]
    },
    {
      "cell_type": "code",
      "metadata": {
        "trusted": true,
        "id": "-KAc_H2-UXYd"
      },
      "source": [
        "# Seperating independent and dependent variables\n",
        "#dependent variables ssc_p, hsc_p\n",
        "X = data_class.iloc[:,[1,3]].values\n",
        "y = data_class.iloc[:,-3].values.reshape(-1,1)"
      ],
      "execution_count": 8,
      "outputs": []
    },
    {
      "cell_type": "code",
      "metadata": {
        "trusted": true,
        "id": "flXqhtvyUXYu"
      },
      "source": [
        "#splitting into training and test set\n",
        "#from sklearn.model_selection import train_test_split\n",
        "X_train, X_test, y_train, y_test = train_test_split( X, y, test_size=0.2, random_state=0)"
      ],
      "execution_count": 9,
      "outputs": []
    },
    {
      "cell_type": "markdown",
      "metadata": {
        "id": "Mt28dtpBUXY9"
      },
      "source": [
        "<a id=\"T42\"></a>\n",
        "## Estimation by multiple regressor"
      ]
    },
    {
      "cell_type": "code",
      "metadata": {
        "trusted": true,
        "id": "RA_bAoBnUXY_"
      },
      "source": [
        "#Multiple linear regression\n",
        "#import library\n",
        "#from sklearn.linear_model import LinearRegression\n",
        "regressor = LinearRegression()\n",
        "\n",
        "#train the model\n",
        "regressor.fit(X_train, y_train)\n",
        "\n",
        "#predict the test set(mba_p)\n",
        "y_pred_m = regressor.predict(X_test)"
      ],
      "execution_count": 10,
      "outputs": []
    },
    {
      "cell_type": "code",
      "metadata": {
        "trusted": true,
        "id": "Zykq3JI_UXZN",
        "outputId": "f70fdf0e-9c29-4191-f2bb-9a575d68bb86",
        "colab": {
          "base_uri": "https://localhost:8080/",
          "height": 36
        }
      },
      "source": [
        "#from sklearn.metrics import r2_score, classification_report\n",
        "print(\"R2 score: \" + str(r2_score(y_test, y_pred_m)))"
      ],
      "execution_count": 11,
      "outputs": [
        {
          "output_type": "stream",
          "text": [
            "R2 score: 0.1749591688855493\n"
          ],
          "name": "stdout"
        }
      ]
    },
    {
      "cell_type": "markdown",
      "metadata": {
        "id": "vQOOe-LeUXZh"
      },
      "source": [
        "<a id=\"T43\"></a>\n",
        "## Interpreting regression coefficients"
      ]
    },
    {
      "cell_type": "code",
      "metadata": {
        "trusted": true,
        "id": "-5S-VNLqUXZl",
        "outputId": "c3a29c63-2215-4926-96fa-9a41b82d8782",
        "colab": {
          "base_uri": "https://localhost:8080/",
          "height": 55
        }
      },
      "source": [
        "print(regressor.coef_)\n",
        "print(regressor.intercept_)"
      ],
      "execution_count": 12,
      "outputs": [
        {
          "output_type": "stream",
          "text": [
            "[[0.13869167 0.13315395]]\n",
            "[44.04616422]\n"
          ],
          "name": "stdout"
        }
      ]
    },
    {
      "cell_type": "markdown",
      "metadata": {
        "id": "mp8v0RMwUXZv"
      },
      "source": [
        "The equation of our multiple linear regression model is:\n",
        "\n",
        "$$\\textrm{mba_p} = 0.14 \\times \\textrm{ssc_p} + 0.13 \\times \\textrm{hsc_p} + 44.05$$\n"
      ]
    },
    {
      "cell_type": "markdown",
      "metadata": {
        "id": "ivU_ZXGhUXZz"
      },
      "source": [
        "<a id=\"T44\"></a>\n",
        "## Significant check based on OLS summary"
      ]
    },
    {
      "cell_type": "markdown",
      "metadata": {
        "id": "CEVuG4DWUXZ1"
      },
      "source": [
        "* _The significance of a regression coefficient in a regression model is determined by dividing the estimated coefficient over the standard deviation of this estimate._\n",
        "* _For statistical significance we expect the absolute value of the t-ratio to be greater than 2 or the_\n",
        "* _P-value to be less than the significance level (α=0.01 or 0.05 or 0,1)._"
      ]
    },
    {
      "cell_type": "code",
      "metadata": {
        "trusted": true,
        "id": "mfOt1oZ1UXZ4",
        "outputId": "82ee2bc4-b808-42ea-9a95-e8d5650e911f",
        "colab": {
          "base_uri": "https://localhost:8080/",
          "height": 452
        }
      },
      "source": [
        "#from statsmodels.api import OLS\n",
        "summ=OLS(y_train,X_train).fit()\n",
        "summ.summary()"
      ],
      "execution_count": 13,
      "outputs": [
        {
          "output_type": "execute_result",
          "data": {
            "text/html": [
              "<table class=\"simpletable\">\n",
              "<caption>OLS Regression Results</caption>\n",
              "<tr>\n",
              "  <th>Dep. Variable:</th>            <td>y</td>        <th>  R-squared (uncentered):</th>      <td>   0.983</td> \n",
              "</tr>\n",
              "<tr>\n",
              "  <th>Model:</th>                   <td>OLS</td>       <th>  Adj. R-squared (uncentered):</th> <td>   0.983</td> \n",
              "</tr>\n",
              "<tr>\n",
              "  <th>Method:</th>             <td>Least Squares</td>  <th>  F-statistic:       </th>          <td>   5048.</td> \n",
              "</tr>\n",
              "<tr>\n",
              "  <th>Date:</th>             <td>Fri, 23 Oct 2020</td> <th>  Prob (F-statistic):</th>          <td>4.18e-152</td>\n",
              "</tr>\n",
              "<tr>\n",
              "  <th>Time:</th>                 <td>19:47:14</td>     <th>  Log-Likelihood:    </th>          <td> -602.68</td> \n",
              "</tr>\n",
              "<tr>\n",
              "  <th>No. Observations:</th>      <td>   172</td>      <th>  AIC:               </th>          <td>   1209.</td> \n",
              "</tr>\n",
              "<tr>\n",
              "  <th>Df Residuals:</th>          <td>   170</td>      <th>  BIC:               </th>          <td>   1216.</td> \n",
              "</tr>\n",
              "<tr>\n",
              "  <th>Df Model:</th>              <td>     2</td>      <th>                     </th>              <td> </td>    \n",
              "</tr>\n",
              "<tr>\n",
              "  <th>Covariance Type:</th>      <td>nonrobust</td>    <th>                     </th>              <td> </td>    \n",
              "</tr>\n",
              "</table>\n",
              "<table class=\"simpletable\">\n",
              "<tr>\n",
              "   <td></td>     <th>coef</th>     <th>std err</th>      <th>t</th>      <th>P>|t|</th>  <th>[0.025</th>    <th>0.975]</th>  \n",
              "</tr>\n",
              "<tr>\n",
              "  <th>x1</th> <td>    0.5122</td> <td>    0.056</td> <td>    9.099</td> <td> 0.000</td> <td>    0.401</td> <td>    0.623</td>\n",
              "</tr>\n",
              "<tr>\n",
              "  <th>x2</th> <td>    0.4051</td> <td>    0.057</td> <td>    7.132</td> <td> 0.000</td> <td>    0.293</td> <td>    0.517</td>\n",
              "</tr>\n",
              "</table>\n",
              "<table class=\"simpletable\">\n",
              "<tr>\n",
              "  <th>Omnibus:</th>       <td> 1.329</td> <th>  Durbin-Watson:     </th> <td>   1.837</td>\n",
              "</tr>\n",
              "<tr>\n",
              "  <th>Prob(Omnibus):</th> <td> 0.514</td> <th>  Jarque-Bera (JB):  </th> <td>   1.101</td>\n",
              "</tr>\n",
              "<tr>\n",
              "  <th>Skew:</th>          <td> 0.193</td> <th>  Prob(JB):          </th> <td>   0.577</td>\n",
              "</tr>\n",
              "<tr>\n",
              "  <th>Kurtosis:</th>      <td> 3.066</td> <th>  Cond. No.          </th> <td>    12.3</td>\n",
              "</tr>\n",
              "</table><br/><br/>Warnings:<br/>[1] Standard Errors assume that the covariance matrix of the errors is correctly specified."
            ],
            "text/plain": [
              "<class 'statsmodels.iolib.summary.Summary'>\n",
              "\"\"\"\n",
              "                                 OLS Regression Results                                \n",
              "=======================================================================================\n",
              "Dep. Variable:                      y   R-squared (uncentered):                   0.983\n",
              "Model:                            OLS   Adj. R-squared (uncentered):              0.983\n",
              "Method:                 Least Squares   F-statistic:                              5048.\n",
              "Date:                Fri, 23 Oct 2020   Prob (F-statistic):                   4.18e-152\n",
              "Time:                        19:47:14   Log-Likelihood:                         -602.68\n",
              "No. Observations:                 172   AIC:                                      1209.\n",
              "Df Residuals:                     170   BIC:                                      1216.\n",
              "Df Model:                           2                                                  \n",
              "Covariance Type:            nonrobust                                                  \n",
              "==============================================================================\n",
              "                 coef    std err          t      P>|t|      [0.025      0.975]\n",
              "------------------------------------------------------------------------------\n",
              "x1             0.5122      0.056      9.099      0.000       0.401       0.623\n",
              "x2             0.4051      0.057      7.132      0.000       0.293       0.517\n",
              "==============================================================================\n",
              "Omnibus:                        1.329   Durbin-Watson:                   1.837\n",
              "Prob(Omnibus):                  0.514   Jarque-Bera (JB):                1.101\n",
              "Skew:                           0.193   Prob(JB):                        0.577\n",
              "Kurtosis:                       3.066   Cond. No.                         12.3\n",
              "==============================================================================\n",
              "\n",
              "Warnings:\n",
              "[1] Standard Errors assume that the covariance matrix of the errors is correctly specified.\n",
              "\"\"\""
            ]
          },
          "metadata": {
            "tags": []
          },
          "execution_count": 13
        }
      ]
    },
    {
      "cell_type": "markdown",
      "metadata": {
        "id": "RzlD_Lg0UXaE"
      },
      "source": [
        "**The regression model summary shows that the hsc and ssc predictor variables are statistically significant because their p-values equal 0.000.**"
      ]
    },
    {
      "cell_type": "markdown",
      "metadata": {
        "id": "xCeBardMAhHe"
      },
      "source": [
        "**My Thoughts**\n",
        "\n",
        "Given the p-values of both variables used, both would be valuable to the model. As mentioned in the author's notes the p valeus are 0.000 which lie below the threshold of p=0.05. As for the coef of x1 and x2 those appear to be somewhat close. However it appears that the x2 variable has more of an inpact on x1 given the coef of x1 being larger."
      ]
    },
    {
      "cell_type": "markdown",
      "metadata": {
        "id": "0Up3cHVBUXaH"
      },
      "source": [
        "<a id=\"T5\"></a>\n",
        "# Task 2: Training regression model"
      ]
    },
    {
      "cell_type": "markdown",
      "metadata": {
        "id": "zGpCXjNqUXaO"
      },
      "source": [
        "2. **Estimate a multiple regression equation for each of the below scenarios and based on the model’s R-square comment which model is better.** \n",
        "    \n",
        "    (i) Use mbap as outcome variable and sscp & degreep as the two predictor variables.    "
      ]
    },
    {
      "cell_type": "code",
      "metadata": {
        "trusted": true,
        "id": "sQDm07XLUXaP",
        "outputId": "f11a982f-5090-4fb1-b7c8-bbef8d353872",
        "colab": {
          "base_uri": "https://localhost:8080/",
          "height": 92
        }
      },
      "source": [
        "# Seperating independent and dependent variables\n",
        "#dependent variables ssc_p, degree_p\n",
        "X = data_class.iloc[:,[1,6]].values\n",
        "y = data_class.iloc[:,-3].values.reshape(-1,1)\n",
        "\n",
        "#splitting into training and test set\n",
        "#from sklearn.model_selection import train_test_split\n",
        "X_train, X_test, y_train, y_test = train_test_split( X, y, test_size=0.2, random_state=0)\n",
        "\n",
        "#Multiple linear regression\n",
        "#from sklearn.linear_model import LinearRegression\n",
        "regressor = LinearRegression()\n",
        "regressor.fit(X_train, y_train)\n",
        "\n",
        "#predict the dependent variable\n",
        "y_pred_m = regressor.predict(X_test)\n",
        "\n",
        "#from sklearn.metrics import r2_score, classification_report\n",
        "print(\"R2 score: \" + str(r2_score(y_test, y_pred_m)))\n",
        "print(\"regression coeff: \" + str(regressor.coef_))\n",
        "print(\"regression intercept: \" + str(regressor.intercept_))\n",
        "print(\"mba_p = 0.12 x ssc_p + 0.22 x degree_p + 39.66\")"
      ],
      "execution_count": 14,
      "outputs": [
        {
          "output_type": "stream",
          "text": [
            "R2 score: 0.2670526417462228\n",
            "regression coeff: [[0.1237819  0.21517005]]\n",
            "regression intercept: [39.65800695]\n",
            "mba_p = 0.12 x ssc_p + 0.22 x degree_p + 39.66\n"
          ],
          "name": "stdout"
        }
      ]
    },
    {
      "cell_type": "markdown",
      "metadata": {
        "id": "nHJOW_JLUXac"
      },
      "source": [
        "2. **Estimate a multiple regression equation for each of the below scenarios and based on the model’s R-square comment which model is better.** \n",
        "    \n",
        "    (ii) Use mbap as outcome variable and hscp & degreep as the two predictor variables."
      ]
    },
    {
      "cell_type": "code",
      "metadata": {
        "trusted": true,
        "id": "q8_0Fs7HUXae",
        "outputId": "f1f5eaed-e88f-44f5-c36d-250f5cd78411",
        "colab": {
          "base_uri": "https://localhost:8080/",
          "height": 92
        }
      },
      "source": [
        "# Seperating independent and dependent variables\n",
        "X = data_class.iloc[:,[3,6]].values\n",
        "y = data_class.iloc[:,-3].values.reshape(-1,1)\n",
        "\n",
        "#splitting into training and test set\n",
        "#from sklearn.model_selection import train_test_split\n",
        "X_train, X_test, y_train, y_test = train_test_split( X, y, test_size=0.2, random_state=0)\n",
        "\n",
        "#Multiple linear regression\n",
        "#from sklearn.linear_model import LinearRegression\n",
        "regressor = LinearRegression()\n",
        "regressor.fit(X_train, y_train)\n",
        "y_pred_m = regressor.predict(X_test)\n",
        "\n",
        "#from sklearn.metrics import r2_score, classification_report\n",
        "print(\"R2 score:\" + str(r2_score(y_test, y_pred_m)))\n",
        "print(\"regression coeff:\" + str(regressor.coef_))\n",
        "print(\"regression intercept:\" + str(regressor.intercept_))\n",
        "print(\"mba_p = \" + str(regressor.coef_[0][0]) + \" x hsc_p + \" + str(regressor.coef_[0][1]) + \" x degree_p + \" + str(regressor.intercept_[0]))"
      ],
      "execution_count": 15,
      "outputs": [
        {
          "output_type": "stream",
          "text": [
            "R2 score:0.17616396722600414\n",
            "regression coeff:[[0.13171318 0.22510365]]\n",
            "regression intercept:[38.56332438]\n",
            "mba_p = 0.13171318061863166 x hsc_p + 0.22510364524995355 x degree_p + 38.56332437694495\n"
          ],
          "name": "stdout"
        }
      ]
    },
    {
      "cell_type": "markdown",
      "metadata": {
        "id": "e0GuptStCIBw"
      },
      "source": [
        "**My Thoughts**\n",
        "The results of this task indicate that for predictor values sscp and degreep are more valuable than hscp and degreep. The sscp portion scored higher in the r2 score which indeciates a better predictor pair. Additionally their regression intercepts are fairly similar indicating a similar distance from the origin."
      ]
    },
    {
      "cell_type": "markdown",
      "metadata": {
        "id": "rgz2cAeCUXaq"
      },
      "source": [
        "<a id='51'></a>\n",
        "## model selection based on R2 score"
      ]
    },
    {
      "cell_type": "markdown",
      "metadata": {
        "id": "roaO6PFBUXas"
      },
      "source": [
        "> **Model with mbap as outcome variable and sscp & degreep as the two predictor variables is better since the r2_score is 0.267**"
      ]
    },
    {
      "cell_type": "markdown",
      "metadata": {
        "id": "HCMVZZy0UXau"
      },
      "source": [
        "<a id=\"T6\"></a>\n",
        "# Task 3: Train a regression model"
      ]
    },
    {
      "cell_type": "markdown",
      "metadata": {
        "id": "2KMKLRTrUXav"
      },
      "source": [
        "3) **Show the functional form of a multiple regression model. Build a regression model with mbap as dependent variable and sscp, hscp and degree_p as three independent variables.** \n",
        "    \n",
        "    Divide the dataset in the ratio of 80:20 for train and test set (set seed as 1001) and use the train set to build the model. Show the model summary and interpret the p-values of the regression coefficients. \n",
        "    \n",
        "    Remove any insignificant variables and rebuild the model. \n",
        "    \n",
        "    Use this model for prediction on the test set and show the first few observations’ actual value of the test set in comparison to the predicted value."
      ]
    },
    {
      "cell_type": "markdown",
      "metadata": {
        "id": "oXNr7uAhUXaw"
      },
      "source": [
        "**_functional form_**\n",
        "> Multiple regression model with mba_p as dependent varialble and ssc_p, hsc_p and degree_p as three independent variables.\n",
        "\n",
        "$$ mba_p = x_1.ssc_p + x_2.hsc_p + x_3.degree_p + constant $$"
      ]
    },
    {
      "cell_type": "code",
      "metadata": {
        "trusted": true,
        "id": "h09rgKKyUXay",
        "outputId": "dbed839e-8acb-40bd-89ec-1365362cc5e0",
        "colab": {
          "base_uri": "https://localhost:8080/",
          "height": 36
        }
      },
      "source": [
        "# Seperating independent and dependent variables\n",
        "X = data_class.iloc[:,[1,3,6]].values\n",
        "y = data_class.iloc[:,-3].values.reshape(-1,1)\n",
        "\n",
        "#splitting into training and test set\n",
        "#from sklearn.model_selection import train_test_split\n",
        "X_train, X_test, y_train, y_test = train_test_split( X, y, test_size=0.2, random_state=1001)\n",
        "\n",
        "#Multiple linear regression\n",
        "#from sklearn.linear_model import LinearRegression\n",
        "regressor = LinearRegression()\n",
        "regressor.fit(X_train, y_train)"
      ],
      "execution_count": 16,
      "outputs": [
        {
          "output_type": "execute_result",
          "data": {
            "text/plain": [
              "LinearRegression(copy_X=True, fit_intercept=True, n_jobs=None, normalize=False)"
            ]
          },
          "metadata": {
            "tags": []
          },
          "execution_count": 16
        }
      ]
    },
    {
      "cell_type": "markdown",
      "metadata": {
        "id": "1vqqhyqGUXa9"
      },
      "source": [
        "<a id=\"T61\"></a>\n",
        "## Insignificant variable based on OLS summary"
      ]
    },
    {
      "cell_type": "markdown",
      "metadata": {
        "id": "_jRK39_fUXa_"
      },
      "source": [
        "* _The significance of a regression coefficient in a regression model is determined by dividing the estimated coefficient over the standard deviation of this estimate._\n",
        "* _For statistical significance we expect the absolute value of the t-ratio to be greater than 2 or the_\n",
        "* _P-value to be less than the significance level (α=0.01 or 0.05 or 0,1)._"
      ]
    },
    {
      "cell_type": "code",
      "metadata": {
        "trusted": true,
        "id": "OH49I7miUXbA",
        "outputId": "d142f576-3936-4a8f-b386-8f2df541d9b5",
        "colab": {
          "base_uri": "https://localhost:8080/",
          "height": 473
        }
      },
      "source": [
        "#Summary of the model\n",
        "#from statsmodels.api import OLS\n",
        "summ=OLS(y_train,X_train).fit()\n",
        "summ.summary()"
      ],
      "execution_count": 17,
      "outputs": [
        {
          "output_type": "execute_result",
          "data": {
            "text/html": [
              "<table class=\"simpletable\">\n",
              "<caption>OLS Regression Results</caption>\n",
              "<tr>\n",
              "  <th>Dep. Variable:</th>            <td>y</td>        <th>  R-squared (uncentered):</th>      <td>   0.989</td> \n",
              "</tr>\n",
              "<tr>\n",
              "  <th>Model:</th>                   <td>OLS</td>       <th>  Adj. R-squared (uncentered):</th> <td>   0.989</td> \n",
              "</tr>\n",
              "<tr>\n",
              "  <th>Method:</th>             <td>Least Squares</td>  <th>  F-statistic:       </th>          <td>   4980.</td> \n",
              "</tr>\n",
              "<tr>\n",
              "  <th>Date:</th>             <td>Fri, 23 Oct 2020</td> <th>  Prob (F-statistic):</th>          <td>1.34e-164</td>\n",
              "</tr>\n",
              "<tr>\n",
              "  <th>Time:</th>                 <td>19:47:14</td>     <th>  Log-Likelihood:    </th>          <td> -569.34</td> \n",
              "</tr>\n",
              "<tr>\n",
              "  <th>No. Observations:</th>      <td>   172</td>      <th>  AIC:               </th>          <td>   1145.</td> \n",
              "</tr>\n",
              "<tr>\n",
              "  <th>Df Residuals:</th>          <td>   169</td>      <th>  BIC:               </th>          <td>   1154.</td> \n",
              "</tr>\n",
              "<tr>\n",
              "  <th>Df Model:</th>              <td>     3</td>      <th>                     </th>              <td> </td>    \n",
              "</tr>\n",
              "<tr>\n",
              "  <th>Covariance Type:</th>      <td>nonrobust</td>    <th>                     </th>              <td> </td>    \n",
              "</tr>\n",
              "</table>\n",
              "<table class=\"simpletable\">\n",
              "<tr>\n",
              "   <td></td>     <th>coef</th>     <th>std err</th>      <th>t</th>      <th>P>|t|</th>  <th>[0.025</th>    <th>0.975]</th>  \n",
              "</tr>\n",
              "<tr>\n",
              "  <th>x1</th> <td>    0.1817</td> <td>    0.063</td> <td>    2.892</td> <td> 0.004</td> <td>    0.058</td> <td>    0.306</td>\n",
              "</tr>\n",
              "<tr>\n",
              "  <th>x2</th> <td>    0.1940</td> <td>    0.054</td> <td>    3.583</td> <td> 0.000</td> <td>    0.087</td> <td>    0.301</td>\n",
              "</tr>\n",
              "<tr>\n",
              "  <th>x3</th> <td>    0.5572</td> <td>    0.066</td> <td>    8.455</td> <td> 0.000</td> <td>    0.427</td> <td>    0.687</td>\n",
              "</tr>\n",
              "</table>\n",
              "<table class=\"simpletable\">\n",
              "<tr>\n",
              "  <th>Omnibus:</th>       <td> 3.046</td> <th>  Durbin-Watson:     </th> <td>   1.977</td>\n",
              "</tr>\n",
              "<tr>\n",
              "  <th>Prob(Omnibus):</th> <td> 0.218</td> <th>  Jarque-Bera (JB):  </th> <td>   3.043</td>\n",
              "</tr>\n",
              "<tr>\n",
              "  <th>Skew:</th>          <td> 0.284</td> <th>  Prob(JB):          </th> <td>   0.218</td>\n",
              "</tr>\n",
              "<tr>\n",
              "  <th>Kurtosis:</th>      <td> 2.681</td> <th>  Cond. No.          </th> <td>    18.8</td>\n",
              "</tr>\n",
              "</table><br/><br/>Warnings:<br/>[1] Standard Errors assume that the covariance matrix of the errors is correctly specified."
            ],
            "text/plain": [
              "<class 'statsmodels.iolib.summary.Summary'>\n",
              "\"\"\"\n",
              "                                 OLS Regression Results                                \n",
              "=======================================================================================\n",
              "Dep. Variable:                      y   R-squared (uncentered):                   0.989\n",
              "Model:                            OLS   Adj. R-squared (uncentered):              0.989\n",
              "Method:                 Least Squares   F-statistic:                              4980.\n",
              "Date:                Fri, 23 Oct 2020   Prob (F-statistic):                   1.34e-164\n",
              "Time:                        19:47:14   Log-Likelihood:                         -569.34\n",
              "No. Observations:                 172   AIC:                                      1145.\n",
              "Df Residuals:                     169   BIC:                                      1154.\n",
              "Df Model:                           3                                                  \n",
              "Covariance Type:            nonrobust                                                  \n",
              "==============================================================================\n",
              "                 coef    std err          t      P>|t|      [0.025      0.975]\n",
              "------------------------------------------------------------------------------\n",
              "x1             0.1817      0.063      2.892      0.004       0.058       0.306\n",
              "x2             0.1940      0.054      3.583      0.000       0.087       0.301\n",
              "x3             0.5572      0.066      8.455      0.000       0.427       0.687\n",
              "==============================================================================\n",
              "Omnibus:                        3.046   Durbin-Watson:                   1.977\n",
              "Prob(Omnibus):                  0.218   Jarque-Bera (JB):                3.043\n",
              "Skew:                           0.284   Prob(JB):                        0.218\n",
              "Kurtosis:                       2.681   Cond. No.                         18.8\n",
              "==============================================================================\n",
              "\n",
              "Warnings:\n",
              "[1] Standard Errors assume that the covariance matrix of the errors is correctly specified.\n",
              "\"\"\""
            ]
          },
          "metadata": {
            "tags": []
          },
          "execution_count": 17
        }
      ]
    },
    {
      "cell_type": "markdown",
      "metadata": {
        "id": "lTD-GbHZUXbI"
      },
      "source": [
        "> **The regression model summary shows that the hsc and degree predictor variables are statistically significant because their p-values equal 0.000.**\n",
        "\n",
        "> **The x1 i.e. ssc variable has a p-value 0.004**"
      ]
    },
    {
      "cell_type": "markdown",
      "metadata": {
        "id": "AzDAeXNPUXbK"
      },
      "source": [
        "**_Drop the ssc feature_**"
      ]
    },
    {
      "cell_type": "markdown",
      "metadata": {
        "id": "XD1yaVpGUXbL"
      },
      "source": [
        "<a id=\"T62\"></a>\n",
        "## Retrain the model"
      ]
    },
    {
      "cell_type": "code",
      "metadata": {
        "trusted": true,
        "id": "RD6kEV2FUXbN",
        "outputId": "fea98aac-7c7d-4173-ca6a-6c53a2691bff",
        "colab": {
          "base_uri": "https://localhost:8080/",
          "height": 36
        }
      },
      "source": [
        "# Seperating independent and dependent variables\n",
        "X = data_class.iloc[:,[3,6]].values\n",
        "y = data_class.iloc[:,-3].values.reshape(-1,1)\n",
        "\n",
        "#splitting into training and test set\n",
        "#from sklearn.model_selection import train_test_split\n",
        "X_train, X_test, y_train, y_test = train_test_split( X, y, test_size=0.2, random_state=1001)\n",
        "\n",
        "#Multiple linear regression\n",
        "#from sklearn.linear_model import LinearRegression\n",
        "regressor = LinearRegression()\n",
        "regressor.fit(X_train, y_train)"
      ],
      "execution_count": 18,
      "outputs": [
        {
          "output_type": "execute_result",
          "data": {
            "text/plain": [
              "LinearRegression(copy_X=True, fit_intercept=True, n_jobs=None, normalize=False)"
            ]
          },
          "metadata": {
            "tags": []
          },
          "execution_count": 18
        }
      ]
    },
    {
      "cell_type": "code",
      "metadata": {
        "trusted": true,
        "id": "5vq3LW7bUXbS"
      },
      "source": [
        "#predict the values\n",
        "y_pred_m = regressor.predict(X_test)"
      ],
      "execution_count": 19,
      "outputs": []
    },
    {
      "cell_type": "code",
      "metadata": {
        "trusted": true,
        "id": "O1mgzSSwUXbY",
        "outputId": "2e1b901a-fccb-41c7-9a0a-db8bbcf12ecf",
        "colab": {
          "base_uri": "https://localhost:8080/",
          "height": 452
        }
      },
      "source": [
        "#Summary of the model\n",
        "#from statsmodels.api import OLS\n",
        "summ=OLS(y_train,X_train).fit()\n",
        "summ.summary()"
      ],
      "execution_count": 20,
      "outputs": [
        {
          "output_type": "execute_result",
          "data": {
            "text/html": [
              "<table class=\"simpletable\">\n",
              "<caption>OLS Regression Results</caption>\n",
              "<tr>\n",
              "  <th>Dep. Variable:</th>            <td>y</td>        <th>  R-squared (uncentered):</th>      <td>   0.988</td> \n",
              "</tr>\n",
              "<tr>\n",
              "  <th>Model:</th>                   <td>OLS</td>       <th>  Adj. R-squared (uncentered):</th> <td>   0.988</td> \n",
              "</tr>\n",
              "<tr>\n",
              "  <th>Method:</th>             <td>Least Squares</td>  <th>  F-statistic:       </th>          <td>   7155.</td> \n",
              "</tr>\n",
              "<tr>\n",
              "  <th>Date:</th>             <td>Fri, 23 Oct 2020</td> <th>  Prob (F-statistic):</th>          <td>8.33e-165</td>\n",
              "</tr>\n",
              "<tr>\n",
              "  <th>Time:</th>                 <td>19:47:14</td>     <th>  Log-Likelihood:    </th>          <td> -573.50</td> \n",
              "</tr>\n",
              "<tr>\n",
              "  <th>No. Observations:</th>      <td>   172</td>      <th>  AIC:               </th>          <td>   1151.</td> \n",
              "</tr>\n",
              "<tr>\n",
              "  <th>Df Residuals:</th>          <td>   170</td>      <th>  BIC:               </th>          <td>   1157.</td> \n",
              "</tr>\n",
              "<tr>\n",
              "  <th>Df Model:</th>              <td>     2</td>      <th>                     </th>              <td> </td>    \n",
              "</tr>\n",
              "<tr>\n",
              "  <th>Covariance Type:</th>      <td>nonrobust</td>    <th>                     </th>              <td> </td>    \n",
              "</tr>\n",
              "</table>\n",
              "<table class=\"simpletable\">\n",
              "<tr>\n",
              "   <td></td>     <th>coef</th>     <th>std err</th>      <th>t</th>      <th>P>|t|</th>  <th>[0.025</th>    <th>0.975]</th>  \n",
              "</tr>\n",
              "<tr>\n",
              "  <th>x1</th> <td>    0.2537</td> <td>    0.051</td> <td>    4.963</td> <td> 0.000</td> <td>    0.153</td> <td>    0.355</td>\n",
              "</tr>\n",
              "<tr>\n",
              "  <th>x2</th> <td>    0.6804</td> <td>    0.051</td> <td>   13.245</td> <td> 0.000</td> <td>    0.579</td> <td>    0.782</td>\n",
              "</tr>\n",
              "</table>\n",
              "<table class=\"simpletable\">\n",
              "<tr>\n",
              "  <th>Omnibus:</th>       <td> 4.630</td> <th>  Durbin-Watson:     </th> <td>   2.022</td>\n",
              "</tr>\n",
              "<tr>\n",
              "  <th>Prob(Omnibus):</th> <td> 0.099</td> <th>  Jarque-Bera (JB):  </th> <td>   3.431</td>\n",
              "</tr>\n",
              "<tr>\n",
              "  <th>Skew:</th>          <td> 0.212</td> <th>  Prob(JB):          </th> <td>   0.180</td>\n",
              "</tr>\n",
              "<tr>\n",
              "  <th>Kurtosis:</th>      <td> 2.453</td> <th>  Cond. No.          </th> <td>    13.1</td>\n",
              "</tr>\n",
              "</table><br/><br/>Warnings:<br/>[1] Standard Errors assume that the covariance matrix of the errors is correctly specified."
            ],
            "text/plain": [
              "<class 'statsmodels.iolib.summary.Summary'>\n",
              "\"\"\"\n",
              "                                 OLS Regression Results                                \n",
              "=======================================================================================\n",
              "Dep. Variable:                      y   R-squared (uncentered):                   0.988\n",
              "Model:                            OLS   Adj. R-squared (uncentered):              0.988\n",
              "Method:                 Least Squares   F-statistic:                              7155.\n",
              "Date:                Fri, 23 Oct 2020   Prob (F-statistic):                   8.33e-165\n",
              "Time:                        19:47:14   Log-Likelihood:                         -573.50\n",
              "No. Observations:                 172   AIC:                                      1151.\n",
              "Df Residuals:                     170   BIC:                                      1157.\n",
              "Df Model:                           2                                                  \n",
              "Covariance Type:            nonrobust                                                  \n",
              "==============================================================================\n",
              "                 coef    std err          t      P>|t|      [0.025      0.975]\n",
              "------------------------------------------------------------------------------\n",
              "x1             0.2537      0.051      4.963      0.000       0.153       0.355\n",
              "x2             0.6804      0.051     13.245      0.000       0.579       0.782\n",
              "==============================================================================\n",
              "Omnibus:                        4.630   Durbin-Watson:                   2.022\n",
              "Prob(Omnibus):                  0.099   Jarque-Bera (JB):                3.431\n",
              "Skew:                           0.212   Prob(JB):                        0.180\n",
              "Kurtosis:                       2.453   Cond. No.                         13.1\n",
              "==============================================================================\n",
              "\n",
              "Warnings:\n",
              "[1] Standard Errors assume that the covariance matrix of the errors is correctly specified.\n",
              "\"\"\""
            ]
          },
          "metadata": {
            "tags": []
          },
          "execution_count": 20
        }
      ]
    },
    {
      "cell_type": "code",
      "metadata": {
        "trusted": true,
        "id": "AQRkm9jAUXbe",
        "outputId": "c51c1fc5-14b8-4dad-a286-0a2d20442244",
        "colab": {
          "base_uri": "https://localhost:8080/",
          "height": 92
        }
      },
      "source": [
        "#from sklearn.metrics import r2_score, classification_report\n",
        "#R2 score\n",
        "print(\"R2 score:\" + str(r2_score(y_test, y_pred_m)))\n",
        "\n",
        "#model p values\n",
        "print(\"regression coeff:\" + str(regressor.coef_))\n",
        "print(\"regression intercept:\" + str(regressor.intercept_))\n",
        "print(\"mba_p = \" + str(regressor.coef_[0][0]) + \" x hsc_p + \" + str(regressor.coef_[0][1]) + \" x degree_p + \" + str(regressor.intercept_[0]))"
      ],
      "execution_count": 21,
      "outputs": [
        {
          "output_type": "stream",
          "text": [
            "R2 score:0.1883460640212925\n",
            "regression coeff:[[0.14059098 0.2137894 ]]\n",
            "regression intercept:[38.89461384]\n",
            "mba_p = 0.14059098107062354 x hsc_p + 0.21378939519548953 x degree_p + 38.89461383778403\n"
          ],
          "name": "stdout"
        }
      ]
    },
    {
      "cell_type": "markdown",
      "metadata": {
        "id": "JP8IgYAlUXbj"
      },
      "source": [
        "<a id=\"T63\"></a>\n",
        "## Observations true vs predicted"
      ]
    },
    {
      "cell_type": "code",
      "metadata": {
        "trusted": true,
        "id": "8LjSrnTEUXbl",
        "outputId": "fc4b009f-f65e-44ea-a609-99c4a3a063f6",
        "colab": {
          "base_uri": "https://localhost:8080/",
          "height": 300
        }
      },
      "source": [
        "np.set_printoptions(precision=2)\n",
        "dff = pd.DataFrame(list(zip(y_test, y_pred_m.round(2))),columns=(\"Target\",\"Predicted\"))\n",
        "dff.head(8)"
      ],
      "execution_count": 22,
      "outputs": [
        {
          "output_type": "execute_result",
          "data": {
            "text/html": [
              "<div>\n",
              "<style scoped>\n",
              "    .dataframe tbody tr th:only-of-type {\n",
              "        vertical-align: middle;\n",
              "    }\n",
              "\n",
              "    .dataframe tbody tr th {\n",
              "        vertical-align: top;\n",
              "    }\n",
              "\n",
              "    .dataframe thead th {\n",
              "        text-align: right;\n",
              "    }\n",
              "</style>\n",
              "<table border=\"1\" class=\"dataframe\">\n",
              "  <thead>\n",
              "    <tr style=\"text-align: right;\">\n",
              "      <th></th>\n",
              "      <th>Target</th>\n",
              "      <th>Predicted</th>\n",
              "    </tr>\n",
              "  </thead>\n",
              "  <tbody>\n",
              "    <tr>\n",
              "      <th>0</th>\n",
              "      <td>[62.54]</td>\n",
              "      <td>[62.23]</td>\n",
              "    </tr>\n",
              "    <tr>\n",
              "      <th>1</th>\n",
              "      <td>[70.81]</td>\n",
              "      <td>[69.42]</td>\n",
              "    </tr>\n",
              "    <tr>\n",
              "      <th>2</th>\n",
              "      <td>[72.14]</td>\n",
              "      <td>[61.62]</td>\n",
              "    </tr>\n",
              "    <tr>\n",
              "      <th>3</th>\n",
              "      <td>[69.7]</td>\n",
              "      <td>[66.47]</td>\n",
              "    </tr>\n",
              "    <tr>\n",
              "      <th>4</th>\n",
              "      <td>[65.48]</td>\n",
              "      <td>[57.92]</td>\n",
              "    </tr>\n",
              "    <tr>\n",
              "      <th>5</th>\n",
              "      <td>[61.31]</td>\n",
              "      <td>[62.01]</td>\n",
              "    </tr>\n",
              "    <tr>\n",
              "      <th>6</th>\n",
              "      <td>[52.64]</td>\n",
              "      <td>[59.02]</td>\n",
              "    </tr>\n",
              "    <tr>\n",
              "      <th>7</th>\n",
              "      <td>[57.65]</td>\n",
              "      <td>[64.04]</td>\n",
              "    </tr>\n",
              "  </tbody>\n",
              "</table>\n",
              "</div>"
            ],
            "text/plain": [
              "    Target Predicted\n",
              "0  [62.54]   [62.23]\n",
              "1  [70.81]   [69.42]\n",
              "2  [72.14]   [61.62]\n",
              "3   [69.7]   [66.47]\n",
              "4  [65.48]   [57.92]\n",
              "5  [61.31]   [62.01]\n",
              "6  [52.64]   [59.02]\n",
              "7  [57.65]   [64.04]"
            ]
          },
          "metadata": {
            "tags": []
          },
          "execution_count": 22
        }
      ]
    },
    {
      "cell_type": "markdown",
      "metadata": {
        "id": "18Vdc1g-DI-8"
      },
      "source": [
        "**My Thougts**\n",
        "\n",
        "In this task the author chose to eliminate the ssc variable because of its inferior p value. Even though in some instances a p value of less than 0.05 is considered signifigant the other values had a value of 0.00.\n",
        "\n",
        "After the model was retrained the target and predicted results were given. These results show examples of the models predicted values compared to their actual ones. It appears that for some values the model did well with less than a 1.0 difference in prediction. However, greater issues occured with samples 2,4,7 with differences over 5.0 occuring. "
      ]
    }
  ]
}